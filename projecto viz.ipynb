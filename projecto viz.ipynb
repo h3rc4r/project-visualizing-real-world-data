{
 "cells": [
  {
   "cell_type": "code",
   "execution_count": 1,
   "metadata": {},
   "outputs": [
    {
     "data": {
      "text/html": [
       "        <script type=\"text/javascript\">\n",
       "        window.PlotlyConfig = {MathJaxConfig: 'local'};\n",
       "        if (window.MathJax) {MathJax.Hub.Config({SVG: {font: \"STIX-Web\"}});}\n",
       "        if (typeof require !== 'undefined') {\n",
       "        require.undef(\"plotly\");\n",
       "        requirejs.config({\n",
       "            paths: {\n",
       "                'plotly': ['https://cdn.plot.ly/plotly-latest.min']\n",
       "            }\n",
       "        });\n",
       "        require(['plotly'], function(Plotly) {\n",
       "            window._Plotly = Plotly;\n",
       "        });\n",
       "        }\n",
       "        </script>\n",
       "        "
      ]
     },
     "metadata": {},
     "output_type": "display_data"
    }
   ],
   "source": [
    "import pandas as pd\n",
    "import plotly.plotly as py\n",
    "import cufflinks as cf\n",
    "from ipywidgets import interact\n",
    "\n",
    "cf.go_offline()"
   ]
  },
  {
   "cell_type": "code",
   "execution_count": 2,
   "metadata": {},
   "outputs": [
    {
     "data": {
      "text/html": [
       "<div>\n",
       "<style scoped>\n",
       "    .dataframe tbody tr th:only-of-type {\n",
       "        vertical-align: middle;\n",
       "    }\n",
       "\n",
       "    .dataframe tbody tr th {\n",
       "        vertical-align: top;\n",
       "    }\n",
       "\n",
       "    .dataframe thead th {\n",
       "        text-align: right;\n",
       "    }\n",
       "</style>\n",
       "<table border=\"1\" class=\"dataframe\">\n",
       "  <thead>\n",
       "    <tr style=\"text-align: right;\">\n",
       "      <th></th>\n",
       "      <th>date</th>\n",
       "      <th>home_team</th>\n",
       "      <th>away_team</th>\n",
       "      <th>home_score</th>\n",
       "      <th>away_score</th>\n",
       "      <th>tournament</th>\n",
       "      <th>city</th>\n",
       "      <th>country</th>\n",
       "      <th>neutral</th>\n",
       "    </tr>\n",
       "  </thead>\n",
       "  <tbody>\n",
       "    <tr>\n",
       "      <th>0</th>\n",
       "      <td>1872-11-30</td>\n",
       "      <td>Scotland</td>\n",
       "      <td>England</td>\n",
       "      <td>0</td>\n",
       "      <td>0</td>\n",
       "      <td>Friendly</td>\n",
       "      <td>Glasgow</td>\n",
       "      <td>Scotland</td>\n",
       "      <td>False</td>\n",
       "    </tr>\n",
       "    <tr>\n",
       "      <th>1</th>\n",
       "      <td>1873-03-08</td>\n",
       "      <td>England</td>\n",
       "      <td>Scotland</td>\n",
       "      <td>4</td>\n",
       "      <td>2</td>\n",
       "      <td>Friendly</td>\n",
       "      <td>London</td>\n",
       "      <td>England</td>\n",
       "      <td>False</td>\n",
       "    </tr>\n",
       "    <tr>\n",
       "      <th>2</th>\n",
       "      <td>1874-03-07</td>\n",
       "      <td>Scotland</td>\n",
       "      <td>England</td>\n",
       "      <td>2</td>\n",
       "      <td>1</td>\n",
       "      <td>Friendly</td>\n",
       "      <td>Glasgow</td>\n",
       "      <td>Scotland</td>\n",
       "      <td>False</td>\n",
       "    </tr>\n",
       "    <tr>\n",
       "      <th>3</th>\n",
       "      <td>1875-03-06</td>\n",
       "      <td>England</td>\n",
       "      <td>Scotland</td>\n",
       "      <td>2</td>\n",
       "      <td>2</td>\n",
       "      <td>Friendly</td>\n",
       "      <td>London</td>\n",
       "      <td>England</td>\n",
       "      <td>False</td>\n",
       "    </tr>\n",
       "    <tr>\n",
       "      <th>4</th>\n",
       "      <td>1876-03-04</td>\n",
       "      <td>Scotland</td>\n",
       "      <td>England</td>\n",
       "      <td>3</td>\n",
       "      <td>0</td>\n",
       "      <td>Friendly</td>\n",
       "      <td>Glasgow</td>\n",
       "      <td>Scotland</td>\n",
       "      <td>False</td>\n",
       "    </tr>\n",
       "  </tbody>\n",
       "</table>\n",
       "</div>"
      ],
      "text/plain": [
       "         date home_team away_team  home_score  away_score tournament     city  \\\n",
       "0  1872-11-30  Scotland   England           0           0   Friendly  Glasgow   \n",
       "1  1873-03-08   England  Scotland           4           2   Friendly   London   \n",
       "2  1874-03-07  Scotland   England           2           1   Friendly  Glasgow   \n",
       "3  1875-03-06   England  Scotland           2           2   Friendly   London   \n",
       "4  1876-03-04  Scotland   England           3           0   Friendly  Glasgow   \n",
       "\n",
       "    country  neutral  \n",
       "0  Scotland    False  \n",
       "1   England    False  \n",
       "2  Scotland    False  \n",
       "3   England    False  \n",
       "4  Scotland    False  "
      ]
     },
     "execution_count": 2,
     "metadata": {},
     "output_type": "execute_result"
    }
   ],
   "source": [
    "data = pd.read_csv('C:/Users/b4bsas/Downloads/results.csv')\n",
    "data.head()"
   ]
  },
  {
   "cell_type": "code",
   "execution_count": 3,
   "metadata": {
    "scrolled": true
   },
   "outputs": [
    {
     "data": {
      "text/html": [
       "<div>\n",
       "<style scoped>\n",
       "    .dataframe tbody tr th:only-of-type {\n",
       "        vertical-align: middle;\n",
       "    }\n",
       "\n",
       "    .dataframe tbody tr th {\n",
       "        vertical-align: top;\n",
       "    }\n",
       "\n",
       "    .dataframe thead th {\n",
       "        text-align: right;\n",
       "    }\n",
       "</style>\n",
       "<table border=\"1\" class=\"dataframe\">\n",
       "  <thead>\n",
       "    <tr style=\"text-align: right;\">\n",
       "      <th></th>\n",
       "      <th>date</th>\n",
       "      <th>home_team</th>\n",
       "      <th>away_team</th>\n",
       "      <th>home_score</th>\n",
       "      <th>away_score</th>\n",
       "      <th>tournament</th>\n",
       "      <th>city</th>\n",
       "      <th>country</th>\n",
       "      <th>neutral</th>\n",
       "      <th>prueba</th>\n",
       "      <th>resultado</th>\n",
       "    </tr>\n",
       "  </thead>\n",
       "  <tbody>\n",
       "    <tr>\n",
       "      <th>2123</th>\n",
       "      <td>1938-08-08</td>\n",
       "      <td>Colombia</td>\n",
       "      <td>Peru</td>\n",
       "      <td>2</td>\n",
       "      <td>4</td>\n",
       "      <td>Friendly</td>\n",
       "      <td>Bogotá</td>\n",
       "      <td>Colombia</td>\n",
       "      <td>False</td>\n",
       "      <td>-2</td>\n",
       "      <td>perdio</td>\n",
       "    </tr>\n",
       "    <tr>\n",
       "      <th>2124</th>\n",
       "      <td>1938-08-10</td>\n",
       "      <td>Colombia</td>\n",
       "      <td>Ecuador</td>\n",
       "      <td>1</td>\n",
       "      <td>2</td>\n",
       "      <td>Friendly</td>\n",
       "      <td>Bogotá</td>\n",
       "      <td>Colombia</td>\n",
       "      <td>False</td>\n",
       "      <td>-1</td>\n",
       "      <td>perdio</td>\n",
       "    </tr>\n",
       "    <tr>\n",
       "      <th>2127</th>\n",
       "      <td>1938-08-13</td>\n",
       "      <td>Colombia</td>\n",
       "      <td>Venezuela</td>\n",
       "      <td>2</td>\n",
       "      <td>0</td>\n",
       "      <td>Friendly</td>\n",
       "      <td>Bogotá</td>\n",
       "      <td>Colombia</td>\n",
       "      <td>False</td>\n",
       "      <td>2</td>\n",
       "      <td>gano</td>\n",
       "    </tr>\n",
       "    <tr>\n",
       "      <th>2128</th>\n",
       "      <td>1938-08-16</td>\n",
       "      <td>Colombia</td>\n",
       "      <td>Bolivia</td>\n",
       "      <td>1</td>\n",
       "      <td>2</td>\n",
       "      <td>Friendly</td>\n",
       "      <td>Bogotá</td>\n",
       "      <td>Colombia</td>\n",
       "      <td>False</td>\n",
       "      <td>-1</td>\n",
       "      <td>perdio</td>\n",
       "    </tr>\n",
       "    <tr>\n",
       "      <th>2495</th>\n",
       "      <td>1945-01-28</td>\n",
       "      <td>Colombia</td>\n",
       "      <td>Uruguay</td>\n",
       "      <td>0</td>\n",
       "      <td>7</td>\n",
       "      <td>Copa América</td>\n",
       "      <td>Santiago</td>\n",
       "      <td>Chile</td>\n",
       "      <td>True</td>\n",
       "      <td>-7</td>\n",
       "      <td>perdio</td>\n",
       "    </tr>\n",
       "    <tr>\n",
       "      <th>2505</th>\n",
       "      <td>1945-02-18</td>\n",
       "      <td>Colombia</td>\n",
       "      <td>Ecuador</td>\n",
       "      <td>3</td>\n",
       "      <td>1</td>\n",
       "      <td>Copa América</td>\n",
       "      <td>Santiago</td>\n",
       "      <td>Chile</td>\n",
       "      <td>True</td>\n",
       "      <td>2</td>\n",
       "      <td>gano</td>\n",
       "    </tr>\n",
       "    <tr>\n",
       "      <th>2748</th>\n",
       "      <td>1947-12-02</td>\n",
       "      <td>Colombia</td>\n",
       "      <td>Uruguay</td>\n",
       "      <td>0</td>\n",
       "      <td>2</td>\n",
       "      <td>Copa América</td>\n",
       "      <td>Guayaquil</td>\n",
       "      <td>Ecuador</td>\n",
       "      <td>True</td>\n",
       "      <td>-2</td>\n",
       "      <td>perdio</td>\n",
       "    </tr>\n",
       "    <tr>\n",
       "      <th>2767</th>\n",
       "      <td>1947-12-20</td>\n",
       "      <td>Colombia</td>\n",
       "      <td>Paraguay</td>\n",
       "      <td>0</td>\n",
       "      <td>2</td>\n",
       "      <td>Copa América</td>\n",
       "      <td>Guayaquil</td>\n",
       "      <td>Ecuador</td>\n",
       "      <td>True</td>\n",
       "      <td>-2</td>\n",
       "      <td>perdio</td>\n",
       "    </tr>\n",
       "    <tr>\n",
       "      <th>2770</th>\n",
       "      <td>1947-12-23</td>\n",
       "      <td>Colombia</td>\n",
       "      <td>Peru</td>\n",
       "      <td>1</td>\n",
       "      <td>5</td>\n",
       "      <td>Copa América</td>\n",
       "      <td>Guayaquil</td>\n",
       "      <td>Ecuador</td>\n",
       "      <td>True</td>\n",
       "      <td>-4</td>\n",
       "      <td>perdio</td>\n",
       "    </tr>\n",
       "    <tr>\n",
       "      <th>2916</th>\n",
       "      <td>1949-04-06</td>\n",
       "      <td>Colombia</td>\n",
       "      <td>Paraguay</td>\n",
       "      <td>0</td>\n",
       "      <td>3</td>\n",
       "      <td>Copa América</td>\n",
       "      <td>São Paulo</td>\n",
       "      <td>Brazil</td>\n",
       "      <td>True</td>\n",
       "      <td>-3</td>\n",
       "      <td>perdio</td>\n",
       "    </tr>\n",
       "    <tr>\n",
       "      <th>2919</th>\n",
       "      <td>1949-04-10</td>\n",
       "      <td>Colombia</td>\n",
       "      <td>Peru</td>\n",
       "      <td>0</td>\n",
       "      <td>4</td>\n",
       "      <td>Copa América</td>\n",
       "      <td>Rio de Janeiro</td>\n",
       "      <td>Brazil</td>\n",
       "      <td>True</td>\n",
       "      <td>-4</td>\n",
       "      <td>perdio</td>\n",
       "    </tr>\n",
       "    <tr>\n",
       "      <th>2947</th>\n",
       "      <td>1949-05-03</td>\n",
       "      <td>Colombia</td>\n",
       "      <td>Ecuador</td>\n",
       "      <td>1</td>\n",
       "      <td>4</td>\n",
       "      <td>Copa América</td>\n",
       "      <td>Rio de Janeiro</td>\n",
       "      <td>Brazil</td>\n",
       "      <td>True</td>\n",
       "      <td>-3</td>\n",
       "      <td>perdio</td>\n",
       "    </tr>\n",
       "    <tr>\n",
       "      <th>4089</th>\n",
       "      <td>1957-03-17</td>\n",
       "      <td>Colombia</td>\n",
       "      <td>Uruguay</td>\n",
       "      <td>1</td>\n",
       "      <td>0</td>\n",
       "      <td>Copa América</td>\n",
       "      <td>Lima</td>\n",
       "      <td>Peru</td>\n",
       "      <td>True</td>\n",
       "      <td>1</td>\n",
       "      <td>gano</td>\n",
       "    </tr>\n",
       "    <tr>\n",
       "      <th>4103</th>\n",
       "      <td>1957-04-01</td>\n",
       "      <td>Colombia</td>\n",
       "      <td>Ecuador</td>\n",
       "      <td>4</td>\n",
       "      <td>1</td>\n",
       "      <td>Copa América</td>\n",
       "      <td>Lima</td>\n",
       "      <td>Peru</td>\n",
       "      <td>True</td>\n",
       "      <td>3</td>\n",
       "      <td>gano</td>\n",
       "    </tr>\n",
       "    <tr>\n",
       "      <th>4155</th>\n",
       "      <td>1957-06-16</td>\n",
       "      <td>Colombia</td>\n",
       "      <td>Uruguay</td>\n",
       "      <td>1</td>\n",
       "      <td>1</td>\n",
       "      <td>FIFA World Cup qualification</td>\n",
       "      <td>Bogotá</td>\n",
       "      <td>Colombia</td>\n",
       "      <td>False</td>\n",
       "      <td>0</td>\n",
       "      <td>empato</td>\n",
       "    </tr>\n",
       "    <tr>\n",
       "      <th>4163</th>\n",
       "      <td>1957-06-20</td>\n",
       "      <td>Colombia</td>\n",
       "      <td>Paraguay</td>\n",
       "      <td>2</td>\n",
       "      <td>3</td>\n",
       "      <td>FIFA World Cup qualification</td>\n",
       "      <td>Bogotá</td>\n",
       "      <td>Colombia</td>\n",
       "      <td>False</td>\n",
       "      <td>-1</td>\n",
       "      <td>perdio</td>\n",
       "    </tr>\n",
       "    <tr>\n",
       "      <th>4166</th>\n",
       "      <td>1957-06-23</td>\n",
       "      <td>Colombia</td>\n",
       "      <td>Paraguay</td>\n",
       "      <td>1</td>\n",
       "      <td>2</td>\n",
       "      <td>Friendly</td>\n",
       "      <td>Medellín</td>\n",
       "      <td>Colombia</td>\n",
       "      <td>False</td>\n",
       "      <td>-1</td>\n",
       "      <td>perdio</td>\n",
       "    </tr>\n",
       "    <tr>\n",
       "      <th>4849</th>\n",
       "      <td>1961-02-05</td>\n",
       "      <td>Colombia</td>\n",
       "      <td>United States</td>\n",
       "      <td>2</td>\n",
       "      <td>0</td>\n",
       "      <td>Friendly</td>\n",
       "      <td>Bogotá</td>\n",
       "      <td>Colombia</td>\n",
       "      <td>False</td>\n",
       "      <td>2</td>\n",
       "      <td>gano</td>\n",
       "    </tr>\n",
       "    <tr>\n",
       "      <th>4892</th>\n",
       "      <td>1961-04-30</td>\n",
       "      <td>Colombia</td>\n",
       "      <td>Peru</td>\n",
       "      <td>1</td>\n",
       "      <td>0</td>\n",
       "      <td>FIFA World Cup qualification</td>\n",
       "      <td>Bogotá</td>\n",
       "      <td>Colombia</td>\n",
       "      <td>False</td>\n",
       "      <td>1</td>\n",
       "      <td>gano</td>\n",
       "    </tr>\n",
       "    <tr>\n",
       "      <th>5066</th>\n",
       "      <td>1962-04-01</td>\n",
       "      <td>Colombia</td>\n",
       "      <td>Mexico</td>\n",
       "      <td>0</td>\n",
       "      <td>1</td>\n",
       "      <td>Friendly</td>\n",
       "      <td>Bogotá</td>\n",
       "      <td>Colombia</td>\n",
       "      <td>False</td>\n",
       "      <td>-1</td>\n",
       "      <td>perdio</td>\n",
       "    </tr>\n",
       "    <tr>\n",
       "      <th>5067</th>\n",
       "      <td>1962-04-04</td>\n",
       "      <td>Colombia</td>\n",
       "      <td>Mexico</td>\n",
       "      <td>2</td>\n",
       "      <td>2</td>\n",
       "      <td>Friendly</td>\n",
       "      <td>Cali</td>\n",
       "      <td>Colombia</td>\n",
       "      <td>False</td>\n",
       "      <td>0</td>\n",
       "      <td>empato</td>\n",
       "    </tr>\n",
       "    <tr>\n",
       "      <th>5112</th>\n",
       "      <td>1962-05-30</td>\n",
       "      <td>Colombia</td>\n",
       "      <td>Uruguay</td>\n",
       "      <td>1</td>\n",
       "      <td>2</td>\n",
       "      <td>FIFA World Cup</td>\n",
       "      <td>Arica</td>\n",
       "      <td>Chile</td>\n",
       "      <td>True</td>\n",
       "      <td>-1</td>\n",
       "      <td>perdio</td>\n",
       "    </tr>\n",
       "    <tr>\n",
       "      <th>5123</th>\n",
       "      <td>1962-06-03</td>\n",
       "      <td>Colombia</td>\n",
       "      <td>Russia</td>\n",
       "      <td>4</td>\n",
       "      <td>4</td>\n",
       "      <td>FIFA World Cup</td>\n",
       "      <td>Arica</td>\n",
       "      <td>Chile</td>\n",
       "      <td>True</td>\n",
       "      <td>0</td>\n",
       "      <td>empato</td>\n",
       "    </tr>\n",
       "    <tr>\n",
       "      <th>5133</th>\n",
       "      <td>1962-06-07</td>\n",
       "      <td>Colombia</td>\n",
       "      <td>Yugoslavia</td>\n",
       "      <td>0</td>\n",
       "      <td>5</td>\n",
       "      <td>FIFA World Cup</td>\n",
       "      <td>Arica</td>\n",
       "      <td>Chile</td>\n",
       "      <td>True</td>\n",
       "      <td>-5</td>\n",
       "      <td>perdio</td>\n",
       "    </tr>\n",
       "    <tr>\n",
       "      <th>5321</th>\n",
       "      <td>1963-03-20</td>\n",
       "      <td>Colombia</td>\n",
       "      <td>Paraguay</td>\n",
       "      <td>2</td>\n",
       "      <td>3</td>\n",
       "      <td>Copa América</td>\n",
       "      <td>Cochabamba</td>\n",
       "      <td>Bolivia</td>\n",
       "      <td>True</td>\n",
       "      <td>-1</td>\n",
       "      <td>perdio</td>\n",
       "    </tr>\n",
       "    <tr>\n",
       "      <th>5328</th>\n",
       "      <td>1963-03-24</td>\n",
       "      <td>Colombia</td>\n",
       "      <td>Peru</td>\n",
       "      <td>1</td>\n",
       "      <td>1</td>\n",
       "      <td>Copa América</td>\n",
       "      <td>La Paz</td>\n",
       "      <td>Bolivia</td>\n",
       "      <td>True</td>\n",
       "      <td>0</td>\n",
       "      <td>empato</td>\n",
       "    </tr>\n",
       "    <tr>\n",
       "      <th>5346</th>\n",
       "      <td>1963-03-31</td>\n",
       "      <td>Colombia</td>\n",
       "      <td>Ecuador</td>\n",
       "      <td>3</td>\n",
       "      <td>4</td>\n",
       "      <td>Copa América</td>\n",
       "      <td>La Paz</td>\n",
       "      <td>Bolivia</td>\n",
       "      <td>True</td>\n",
       "      <td>-1</td>\n",
       "      <td>perdio</td>\n",
       "    </tr>\n",
       "    <tr>\n",
       "      <th>5439</th>\n",
       "      <td>1963-09-01</td>\n",
       "      <td>Colombia</td>\n",
       "      <td>Costa Rica</td>\n",
       "      <td>4</td>\n",
       "      <td>5</td>\n",
       "      <td>Friendly</td>\n",
       "      <td>Bogotá</td>\n",
       "      <td>Colombia</td>\n",
       "      <td>False</td>\n",
       "      <td>-1</td>\n",
       "      <td>perdio</td>\n",
       "    </tr>\n",
       "    <tr>\n",
       "      <th>5443</th>\n",
       "      <td>1963-09-04</td>\n",
       "      <td>Colombia</td>\n",
       "      <td>Costa Rica</td>\n",
       "      <td>1</td>\n",
       "      <td>0</td>\n",
       "      <td>Friendly</td>\n",
       "      <td>Cali</td>\n",
       "      <td>Colombia</td>\n",
       "      <td>False</td>\n",
       "      <td>1</td>\n",
       "      <td>gano</td>\n",
       "    </tr>\n",
       "    <tr>\n",
       "      <th>5886</th>\n",
       "      <td>1965-07-20</td>\n",
       "      <td>Colombia</td>\n",
       "      <td>Ecuador</td>\n",
       "      <td>0</td>\n",
       "      <td>1</td>\n",
       "      <td>FIFA World Cup qualification</td>\n",
       "      <td>Barranquilla</td>\n",
       "      <td>Colombia</td>\n",
       "      <td>False</td>\n",
       "      <td>-1</td>\n",
       "      <td>perdio</td>\n",
       "    </tr>\n",
       "    <tr>\n",
       "      <th>...</th>\n",
       "      <td>...</td>\n",
       "      <td>...</td>\n",
       "      <td>...</td>\n",
       "      <td>...</td>\n",
       "      <td>...</td>\n",
       "      <td>...</td>\n",
       "      <td>...</td>\n",
       "      <td>...</td>\n",
       "      <td>...</td>\n",
       "      <td>...</td>\n",
       "      <td>...</td>\n",
       "    </tr>\n",
       "    <tr>\n",
       "      <th>35818</th>\n",
       "      <td>2014-03-05</td>\n",
       "      <td>Colombia</td>\n",
       "      <td>Tunisia</td>\n",
       "      <td>1</td>\n",
       "      <td>1</td>\n",
       "      <td>Friendly</td>\n",
       "      <td>Barcelona</td>\n",
       "      <td>Spain</td>\n",
       "      <td>True</td>\n",
       "      <td>0</td>\n",
       "      <td>empato</td>\n",
       "    </tr>\n",
       "    <tr>\n",
       "      <th>35969</th>\n",
       "      <td>2014-05-31</td>\n",
       "      <td>Colombia</td>\n",
       "      <td>Senegal</td>\n",
       "      <td>2</td>\n",
       "      <td>2</td>\n",
       "      <td>Friendly</td>\n",
       "      <td>Buenos Aires</td>\n",
       "      <td>Argentina</td>\n",
       "      <td>True</td>\n",
       "      <td>0</td>\n",
       "      <td>empato</td>\n",
       "    </tr>\n",
       "    <tr>\n",
       "      <th>36037</th>\n",
       "      <td>2014-06-06</td>\n",
       "      <td>Colombia</td>\n",
       "      <td>Jordan</td>\n",
       "      <td>3</td>\n",
       "      <td>0</td>\n",
       "      <td>Friendly</td>\n",
       "      <td>Buenos Aires</td>\n",
       "      <td>Argentina</td>\n",
       "      <td>True</td>\n",
       "      <td>3</td>\n",
       "      <td>gano</td>\n",
       "    </tr>\n",
       "    <tr>\n",
       "      <th>36070</th>\n",
       "      <td>2014-06-14</td>\n",
       "      <td>Colombia</td>\n",
       "      <td>Greece</td>\n",
       "      <td>3</td>\n",
       "      <td>0</td>\n",
       "      <td>FIFA World Cup</td>\n",
       "      <td>Belo Horizonte</td>\n",
       "      <td>Brazil</td>\n",
       "      <td>True</td>\n",
       "      <td>3</td>\n",
       "      <td>gano</td>\n",
       "    </tr>\n",
       "    <tr>\n",
       "      <th>36087</th>\n",
       "      <td>2014-06-19</td>\n",
       "      <td>Colombia</td>\n",
       "      <td>Ivory Coast</td>\n",
       "      <td>2</td>\n",
       "      <td>1</td>\n",
       "      <td>FIFA World Cup</td>\n",
       "      <td>Brasília</td>\n",
       "      <td>Brazil</td>\n",
       "      <td>True</td>\n",
       "      <td>1</td>\n",
       "      <td>gano</td>\n",
       "    </tr>\n",
       "    <tr>\n",
       "      <th>36119</th>\n",
       "      <td>2014-06-28</td>\n",
       "      <td>Colombia</td>\n",
       "      <td>Uruguay</td>\n",
       "      <td>2</td>\n",
       "      <td>0</td>\n",
       "      <td>FIFA World Cup</td>\n",
       "      <td>Rio de Janeiro</td>\n",
       "      <td>Brazil</td>\n",
       "      <td>True</td>\n",
       "      <td>2</td>\n",
       "      <td>gano</td>\n",
       "    </tr>\n",
       "    <tr>\n",
       "      <th>36885</th>\n",
       "      <td>2015-06-06</td>\n",
       "      <td>Colombia</td>\n",
       "      <td>Costa Rica</td>\n",
       "      <td>1</td>\n",
       "      <td>0</td>\n",
       "      <td>Friendly</td>\n",
       "      <td>Buenos Aires</td>\n",
       "      <td>Argentina</td>\n",
       "      <td>True</td>\n",
       "      <td>1</td>\n",
       "      <td>gano</td>\n",
       "    </tr>\n",
       "    <tr>\n",
       "      <th>36977</th>\n",
       "      <td>2015-06-14</td>\n",
       "      <td>Colombia</td>\n",
       "      <td>Venezuela</td>\n",
       "      <td>0</td>\n",
       "      <td>1</td>\n",
       "      <td>Copa América</td>\n",
       "      <td>Rancagua</td>\n",
       "      <td>Chile</td>\n",
       "      <td>True</td>\n",
       "      <td>-1</td>\n",
       "      <td>perdio</td>\n",
       "    </tr>\n",
       "    <tr>\n",
       "      <th>37043</th>\n",
       "      <td>2015-06-21</td>\n",
       "      <td>Colombia</td>\n",
       "      <td>Peru</td>\n",
       "      <td>0</td>\n",
       "      <td>0</td>\n",
       "      <td>Copa América</td>\n",
       "      <td>Temuco</td>\n",
       "      <td>Chile</td>\n",
       "      <td>True</td>\n",
       "      <td>0</td>\n",
       "      <td>empato</td>\n",
       "    </tr>\n",
       "    <tr>\n",
       "      <th>37291</th>\n",
       "      <td>2015-10-08</td>\n",
       "      <td>Colombia</td>\n",
       "      <td>Peru</td>\n",
       "      <td>2</td>\n",
       "      <td>0</td>\n",
       "      <td>FIFA World Cup qualification</td>\n",
       "      <td>Barranquilla</td>\n",
       "      <td>Colombia</td>\n",
       "      <td>False</td>\n",
       "      <td>2</td>\n",
       "      <td>gano</td>\n",
       "    </tr>\n",
       "    <tr>\n",
       "      <th>37533</th>\n",
       "      <td>2015-11-17</td>\n",
       "      <td>Colombia</td>\n",
       "      <td>Argentina</td>\n",
       "      <td>0</td>\n",
       "      <td>1</td>\n",
       "      <td>FIFA World Cup qualification</td>\n",
       "      <td>Barranquilla</td>\n",
       "      <td>Colombia</td>\n",
       "      <td>False</td>\n",
       "      <td>-1</td>\n",
       "      <td>perdio</td>\n",
       "    </tr>\n",
       "    <tr>\n",
       "      <th>37782</th>\n",
       "      <td>2016-03-29</td>\n",
       "      <td>Colombia</td>\n",
       "      <td>Ecuador</td>\n",
       "      <td>3</td>\n",
       "      <td>0</td>\n",
       "      <td>FIFA World Cup qualification</td>\n",
       "      <td>Barranquilla</td>\n",
       "      <td>Colombia</td>\n",
       "      <td>False</td>\n",
       "      <td>3</td>\n",
       "      <td>gano</td>\n",
       "    </tr>\n",
       "    <tr>\n",
       "      <th>38014</th>\n",
       "      <td>2016-06-07</td>\n",
       "      <td>Colombia</td>\n",
       "      <td>Paraguay</td>\n",
       "      <td>2</td>\n",
       "      <td>1</td>\n",
       "      <td>Copa América</td>\n",
       "      <td>Pasadena</td>\n",
       "      <td>United States</td>\n",
       "      <td>True</td>\n",
       "      <td>1</td>\n",
       "      <td>gano</td>\n",
       "    </tr>\n",
       "    <tr>\n",
       "      <th>38035</th>\n",
       "      <td>2016-06-11</td>\n",
       "      <td>Colombia</td>\n",
       "      <td>Costa Rica</td>\n",
       "      <td>2</td>\n",
       "      <td>3</td>\n",
       "      <td>Copa América</td>\n",
       "      <td>Houston</td>\n",
       "      <td>United States</td>\n",
       "      <td>True</td>\n",
       "      <td>-1</td>\n",
       "      <td>perdio</td>\n",
       "    </tr>\n",
       "    <tr>\n",
       "      <th>38100</th>\n",
       "      <td>2016-06-22</td>\n",
       "      <td>Colombia</td>\n",
       "      <td>Chile</td>\n",
       "      <td>0</td>\n",
       "      <td>2</td>\n",
       "      <td>Copa América</td>\n",
       "      <td>Chicago</td>\n",
       "      <td>United States</td>\n",
       "      <td>True</td>\n",
       "      <td>-2</td>\n",
       "      <td>perdio</td>\n",
       "    </tr>\n",
       "    <tr>\n",
       "      <th>38166</th>\n",
       "      <td>2016-09-01</td>\n",
       "      <td>Colombia</td>\n",
       "      <td>Venezuela</td>\n",
       "      <td>2</td>\n",
       "      <td>0</td>\n",
       "      <td>FIFA World Cup qualification</td>\n",
       "      <td>Barranquilla</td>\n",
       "      <td>Colombia</td>\n",
       "      <td>False</td>\n",
       "      <td>2</td>\n",
       "      <td>gano</td>\n",
       "    </tr>\n",
       "    <tr>\n",
       "      <th>38359</th>\n",
       "      <td>2016-10-11</td>\n",
       "      <td>Colombia</td>\n",
       "      <td>Uruguay</td>\n",
       "      <td>2</td>\n",
       "      <td>2</td>\n",
       "      <td>FIFA World Cup qualification</td>\n",
       "      <td>Barranquilla</td>\n",
       "      <td>Colombia</td>\n",
       "      <td>False</td>\n",
       "      <td>0</td>\n",
       "      <td>empato</td>\n",
       "    </tr>\n",
       "    <tr>\n",
       "      <th>38418</th>\n",
       "      <td>2016-11-10</td>\n",
       "      <td>Colombia</td>\n",
       "      <td>Chile</td>\n",
       "      <td>0</td>\n",
       "      <td>0</td>\n",
       "      <td>FIFA World Cup qualification</td>\n",
       "      <td>Barranquilla</td>\n",
       "      <td>Colombia</td>\n",
       "      <td>False</td>\n",
       "      <td>0</td>\n",
       "      <td>empato</td>\n",
       "    </tr>\n",
       "    <tr>\n",
       "      <th>38629</th>\n",
       "      <td>2017-03-23</td>\n",
       "      <td>Colombia</td>\n",
       "      <td>Bolivia</td>\n",
       "      <td>1</td>\n",
       "      <td>0</td>\n",
       "      <td>FIFA World Cup qualification</td>\n",
       "      <td>Barranquilla</td>\n",
       "      <td>Colombia</td>\n",
       "      <td>False</td>\n",
       "      <td>1</td>\n",
       "      <td>gano</td>\n",
       "    </tr>\n",
       "    <tr>\n",
       "      <th>39180</th>\n",
       "      <td>2017-09-05</td>\n",
       "      <td>Colombia</td>\n",
       "      <td>Brazil</td>\n",
       "      <td>1</td>\n",
       "      <td>1</td>\n",
       "      <td>FIFA World Cup qualification</td>\n",
       "      <td>Barranquilla</td>\n",
       "      <td>Colombia</td>\n",
       "      <td>False</td>\n",
       "      <td>0</td>\n",
       "      <td>empato</td>\n",
       "    </tr>\n",
       "    <tr>\n",
       "      <th>39222</th>\n",
       "      <td>2017-10-05</td>\n",
       "      <td>Colombia</td>\n",
       "      <td>Paraguay</td>\n",
       "      <td>1</td>\n",
       "      <td>2</td>\n",
       "      <td>FIFA World Cup qualification</td>\n",
       "      <td>Barranquilla</td>\n",
       "      <td>Colombia</td>\n",
       "      <td>False</td>\n",
       "      <td>-1</td>\n",
       "      <td>perdio</td>\n",
       "    </tr>\n",
       "    <tr>\n",
       "      <th>39748</th>\n",
       "      <td>2018-06-01</td>\n",
       "      <td>Colombia</td>\n",
       "      <td>Egypt</td>\n",
       "      <td>0</td>\n",
       "      <td>0</td>\n",
       "      <td>Friendly</td>\n",
       "      <td>Bergamo</td>\n",
       "      <td>Italy</td>\n",
       "      <td>True</td>\n",
       "      <td>0</td>\n",
       "      <td>empato</td>\n",
       "    </tr>\n",
       "    <tr>\n",
       "      <th>39876</th>\n",
       "      <td>2018-06-19</td>\n",
       "      <td>Colombia</td>\n",
       "      <td>Japan</td>\n",
       "      <td>1</td>\n",
       "      <td>2</td>\n",
       "      <td>FIFA World Cup</td>\n",
       "      <td>Saransk</td>\n",
       "      <td>Russia</td>\n",
       "      <td>True</td>\n",
       "      <td>-1</td>\n",
       "      <td>perdio</td>\n",
       "    </tr>\n",
       "    <tr>\n",
       "      <th>39917</th>\n",
       "      <td>2018-07-03</td>\n",
       "      <td>Colombia</td>\n",
       "      <td>England</td>\n",
       "      <td>1</td>\n",
       "      <td>1</td>\n",
       "      <td>FIFA World Cup</td>\n",
       "      <td>Moscow</td>\n",
       "      <td>Russia</td>\n",
       "      <td>True</td>\n",
       "      <td>0</td>\n",
       "      <td>empato</td>\n",
       "    </tr>\n",
       "    <tr>\n",
       "      <th>40044</th>\n",
       "      <td>2018-09-11</td>\n",
       "      <td>Colombia</td>\n",
       "      <td>Argentina</td>\n",
       "      <td>0</td>\n",
       "      <td>0</td>\n",
       "      <td>Friendly</td>\n",
       "      <td>East Rutherford</td>\n",
       "      <td>United States</td>\n",
       "      <td>True</td>\n",
       "      <td>0</td>\n",
       "      <td>empato</td>\n",
       "    </tr>\n",
       "    <tr>\n",
       "      <th>40162</th>\n",
       "      <td>2018-10-16</td>\n",
       "      <td>Colombia</td>\n",
       "      <td>Costa Rica</td>\n",
       "      <td>3</td>\n",
       "      <td>1</td>\n",
       "      <td>Friendly</td>\n",
       "      <td>Harrison</td>\n",
       "      <td>United States</td>\n",
       "      <td>True</td>\n",
       "      <td>2</td>\n",
       "      <td>gano</td>\n",
       "    </tr>\n",
       "    <tr>\n",
       "      <th>40556</th>\n",
       "      <td>2019-06-03</td>\n",
       "      <td>Colombia</td>\n",
       "      <td>Panama</td>\n",
       "      <td>3</td>\n",
       "      <td>0</td>\n",
       "      <td>Friendly</td>\n",
       "      <td>Bogota</td>\n",
       "      <td>Colombia</td>\n",
       "      <td>False</td>\n",
       "      <td>3</td>\n",
       "      <td>gano</td>\n",
       "    </tr>\n",
       "    <tr>\n",
       "      <th>40710</th>\n",
       "      <td>2019-06-19</td>\n",
       "      <td>Colombia</td>\n",
       "      <td>Qatar</td>\n",
       "      <td>1</td>\n",
       "      <td>0</td>\n",
       "      <td>Copa América</td>\n",
       "      <td>São Paulo</td>\n",
       "      <td>Brazil</td>\n",
       "      <td>True</td>\n",
       "      <td>1</td>\n",
       "      <td>gano</td>\n",
       "    </tr>\n",
       "    <tr>\n",
       "      <th>40738</th>\n",
       "      <td>2019-06-23</td>\n",
       "      <td>Colombia</td>\n",
       "      <td>Paraguay</td>\n",
       "      <td>1</td>\n",
       "      <td>0</td>\n",
       "      <td>Copa América</td>\n",
       "      <td>Salvador</td>\n",
       "      <td>Brazil</td>\n",
       "      <td>True</td>\n",
       "      <td>1</td>\n",
       "      <td>gano</td>\n",
       "    </tr>\n",
       "    <tr>\n",
       "      <th>40765</th>\n",
       "      <td>2019-06-28</td>\n",
       "      <td>Colombia</td>\n",
       "      <td>Chile</td>\n",
       "      <td>0</td>\n",
       "      <td>0</td>\n",
       "      <td>Copa América</td>\n",
       "      <td>São Paulo</td>\n",
       "      <td>Brazil</td>\n",
       "      <td>True</td>\n",
       "      <td>0</td>\n",
       "      <td>empato</td>\n",
       "    </tr>\n",
       "  </tbody>\n",
       "</table>\n",
       "<p>258 rows × 11 columns</p>\n",
       "</div>"
      ],
      "text/plain": [
       "             date home_team      away_team  home_score  away_score  \\\n",
       "2123   1938-08-08  Colombia           Peru           2           4   \n",
       "2124   1938-08-10  Colombia        Ecuador           1           2   \n",
       "2127   1938-08-13  Colombia      Venezuela           2           0   \n",
       "2128   1938-08-16  Colombia        Bolivia           1           2   \n",
       "2495   1945-01-28  Colombia        Uruguay           0           7   \n",
       "2505   1945-02-18  Colombia        Ecuador           3           1   \n",
       "2748   1947-12-02  Colombia        Uruguay           0           2   \n",
       "2767   1947-12-20  Colombia       Paraguay           0           2   \n",
       "2770   1947-12-23  Colombia           Peru           1           5   \n",
       "2916   1949-04-06  Colombia       Paraguay           0           3   \n",
       "2919   1949-04-10  Colombia           Peru           0           4   \n",
       "2947   1949-05-03  Colombia        Ecuador           1           4   \n",
       "4089   1957-03-17  Colombia        Uruguay           1           0   \n",
       "4103   1957-04-01  Colombia        Ecuador           4           1   \n",
       "4155   1957-06-16  Colombia        Uruguay           1           1   \n",
       "4163   1957-06-20  Colombia       Paraguay           2           3   \n",
       "4166   1957-06-23  Colombia       Paraguay           1           2   \n",
       "4849   1961-02-05  Colombia  United States           2           0   \n",
       "4892   1961-04-30  Colombia           Peru           1           0   \n",
       "5066   1962-04-01  Colombia         Mexico           0           1   \n",
       "5067   1962-04-04  Colombia         Mexico           2           2   \n",
       "5112   1962-05-30  Colombia        Uruguay           1           2   \n",
       "5123   1962-06-03  Colombia         Russia           4           4   \n",
       "5133   1962-06-07  Colombia     Yugoslavia           0           5   \n",
       "5321   1963-03-20  Colombia       Paraguay           2           3   \n",
       "5328   1963-03-24  Colombia           Peru           1           1   \n",
       "5346   1963-03-31  Colombia        Ecuador           3           4   \n",
       "5439   1963-09-01  Colombia     Costa Rica           4           5   \n",
       "5443   1963-09-04  Colombia     Costa Rica           1           0   \n",
       "5886   1965-07-20  Colombia        Ecuador           0           1   \n",
       "...           ...       ...            ...         ...         ...   \n",
       "35818  2014-03-05  Colombia        Tunisia           1           1   \n",
       "35969  2014-05-31  Colombia        Senegal           2           2   \n",
       "36037  2014-06-06  Colombia         Jordan           3           0   \n",
       "36070  2014-06-14  Colombia         Greece           3           0   \n",
       "36087  2014-06-19  Colombia    Ivory Coast           2           1   \n",
       "36119  2014-06-28  Colombia        Uruguay           2           0   \n",
       "36885  2015-06-06  Colombia     Costa Rica           1           0   \n",
       "36977  2015-06-14  Colombia      Venezuela           0           1   \n",
       "37043  2015-06-21  Colombia           Peru           0           0   \n",
       "37291  2015-10-08  Colombia           Peru           2           0   \n",
       "37533  2015-11-17  Colombia      Argentina           0           1   \n",
       "37782  2016-03-29  Colombia        Ecuador           3           0   \n",
       "38014  2016-06-07  Colombia       Paraguay           2           1   \n",
       "38035  2016-06-11  Colombia     Costa Rica           2           3   \n",
       "38100  2016-06-22  Colombia          Chile           0           2   \n",
       "38166  2016-09-01  Colombia      Venezuela           2           0   \n",
       "38359  2016-10-11  Colombia        Uruguay           2           2   \n",
       "38418  2016-11-10  Colombia          Chile           0           0   \n",
       "38629  2017-03-23  Colombia        Bolivia           1           0   \n",
       "39180  2017-09-05  Colombia         Brazil           1           1   \n",
       "39222  2017-10-05  Colombia       Paraguay           1           2   \n",
       "39748  2018-06-01  Colombia          Egypt           0           0   \n",
       "39876  2018-06-19  Colombia          Japan           1           2   \n",
       "39917  2018-07-03  Colombia        England           1           1   \n",
       "40044  2018-09-11  Colombia      Argentina           0           0   \n",
       "40162  2018-10-16  Colombia     Costa Rica           3           1   \n",
       "40556  2019-06-03  Colombia         Panama           3           0   \n",
       "40710  2019-06-19  Colombia          Qatar           1           0   \n",
       "40738  2019-06-23  Colombia       Paraguay           1           0   \n",
       "40765  2019-06-28  Colombia          Chile           0           0   \n",
       "\n",
       "                         tournament             city        country  neutral  \\\n",
       "2123                       Friendly           Bogotá       Colombia    False   \n",
       "2124                       Friendly           Bogotá       Colombia    False   \n",
       "2127                       Friendly           Bogotá       Colombia    False   \n",
       "2128                       Friendly           Bogotá       Colombia    False   \n",
       "2495                   Copa América         Santiago          Chile     True   \n",
       "2505                   Copa América         Santiago          Chile     True   \n",
       "2748                   Copa América        Guayaquil        Ecuador     True   \n",
       "2767                   Copa América        Guayaquil        Ecuador     True   \n",
       "2770                   Copa América        Guayaquil        Ecuador     True   \n",
       "2916                   Copa América        São Paulo         Brazil     True   \n",
       "2919                   Copa América   Rio de Janeiro         Brazil     True   \n",
       "2947                   Copa América   Rio de Janeiro         Brazil     True   \n",
       "4089                   Copa América             Lima           Peru     True   \n",
       "4103                   Copa América             Lima           Peru     True   \n",
       "4155   FIFA World Cup qualification           Bogotá       Colombia    False   \n",
       "4163   FIFA World Cup qualification           Bogotá       Colombia    False   \n",
       "4166                       Friendly         Medellín       Colombia    False   \n",
       "4849                       Friendly           Bogotá       Colombia    False   \n",
       "4892   FIFA World Cup qualification           Bogotá       Colombia    False   \n",
       "5066                       Friendly           Bogotá       Colombia    False   \n",
       "5067                       Friendly             Cali       Colombia    False   \n",
       "5112                 FIFA World Cup            Arica          Chile     True   \n",
       "5123                 FIFA World Cup            Arica          Chile     True   \n",
       "5133                 FIFA World Cup            Arica          Chile     True   \n",
       "5321                   Copa América       Cochabamba        Bolivia     True   \n",
       "5328                   Copa América           La Paz        Bolivia     True   \n",
       "5346                   Copa América           La Paz        Bolivia     True   \n",
       "5439                       Friendly           Bogotá       Colombia    False   \n",
       "5443                       Friendly             Cali       Colombia    False   \n",
       "5886   FIFA World Cup qualification     Barranquilla       Colombia    False   \n",
       "...                             ...              ...            ...      ...   \n",
       "35818                      Friendly        Barcelona          Spain     True   \n",
       "35969                      Friendly     Buenos Aires      Argentina     True   \n",
       "36037                      Friendly     Buenos Aires      Argentina     True   \n",
       "36070                FIFA World Cup   Belo Horizonte         Brazil     True   \n",
       "36087                FIFA World Cup         Brasília         Brazil     True   \n",
       "36119                FIFA World Cup   Rio de Janeiro         Brazil     True   \n",
       "36885                      Friendly     Buenos Aires      Argentina     True   \n",
       "36977                  Copa América         Rancagua          Chile     True   \n",
       "37043                  Copa América           Temuco          Chile     True   \n",
       "37291  FIFA World Cup qualification     Barranquilla       Colombia    False   \n",
       "37533  FIFA World Cup qualification     Barranquilla       Colombia    False   \n",
       "37782  FIFA World Cup qualification     Barranquilla       Colombia    False   \n",
       "38014                  Copa América         Pasadena  United States     True   \n",
       "38035                  Copa América          Houston  United States     True   \n",
       "38100                  Copa América          Chicago  United States     True   \n",
       "38166  FIFA World Cup qualification     Barranquilla       Colombia    False   \n",
       "38359  FIFA World Cup qualification     Barranquilla       Colombia    False   \n",
       "38418  FIFA World Cup qualification     Barranquilla       Colombia    False   \n",
       "38629  FIFA World Cup qualification     Barranquilla       Colombia    False   \n",
       "39180  FIFA World Cup qualification     Barranquilla       Colombia    False   \n",
       "39222  FIFA World Cup qualification     Barranquilla       Colombia    False   \n",
       "39748                      Friendly          Bergamo          Italy     True   \n",
       "39876                FIFA World Cup          Saransk         Russia     True   \n",
       "39917                FIFA World Cup           Moscow         Russia     True   \n",
       "40044                      Friendly  East Rutherford  United States     True   \n",
       "40162                      Friendly         Harrison  United States     True   \n",
       "40556                      Friendly           Bogota       Colombia    False   \n",
       "40710                  Copa América        São Paulo         Brazil     True   \n",
       "40738                  Copa América         Salvador         Brazil     True   \n",
       "40765                  Copa América        São Paulo         Brazil     True   \n",
       "\n",
       "       prueba resultado  \n",
       "2123       -2    perdio  \n",
       "2124       -1    perdio  \n",
       "2127        2      gano  \n",
       "2128       -1    perdio  \n",
       "2495       -7    perdio  \n",
       "2505        2      gano  \n",
       "2748       -2    perdio  \n",
       "2767       -2    perdio  \n",
       "2770       -4    perdio  \n",
       "2916       -3    perdio  \n",
       "2919       -4    perdio  \n",
       "2947       -3    perdio  \n",
       "4089        1      gano  \n",
       "4103        3      gano  \n",
       "4155        0    empato  \n",
       "4163       -1    perdio  \n",
       "4166       -1    perdio  \n",
       "4849        2      gano  \n",
       "4892        1      gano  \n",
       "5066       -1    perdio  \n",
       "5067        0    empato  \n",
       "5112       -1    perdio  \n",
       "5123        0    empato  \n",
       "5133       -5    perdio  \n",
       "5321       -1    perdio  \n",
       "5328        0    empato  \n",
       "5346       -1    perdio  \n",
       "5439       -1    perdio  \n",
       "5443        1      gano  \n",
       "5886       -1    perdio  \n",
       "...       ...       ...  \n",
       "35818       0    empato  \n",
       "35969       0    empato  \n",
       "36037       3      gano  \n",
       "36070       3      gano  \n",
       "36087       1      gano  \n",
       "36119       2      gano  \n",
       "36885       1      gano  \n",
       "36977      -1    perdio  \n",
       "37043       0    empato  \n",
       "37291       2      gano  \n",
       "37533      -1    perdio  \n",
       "37782       3      gano  \n",
       "38014       1      gano  \n",
       "38035      -1    perdio  \n",
       "38100      -2    perdio  \n",
       "38166       2      gano  \n",
       "38359       0    empato  \n",
       "38418       0    empato  \n",
       "38629       1      gano  \n",
       "39180       0    empato  \n",
       "39222      -1    perdio  \n",
       "39748       0    empato  \n",
       "39876      -1    perdio  \n",
       "39917       0    empato  \n",
       "40044       0    empato  \n",
       "40162       2      gano  \n",
       "40556       3      gano  \n",
       "40710       1      gano  \n",
       "40738       1      gano  \n",
       "40765       0    empato  \n",
       "\n",
       "[258 rows x 11 columns]"
      ]
     },
     "execution_count": 3,
     "metadata": {},
     "output_type": "execute_result"
    }
   ],
   "source": [
    "data_col_home = data[(data['home_team']=='Colombia')]\n",
    "data_col_away = data[(data['away_team']=='Colombia')]\n",
    "data_col_home['prueba'] = data_col_home['home_score']-data_col_home['away_score']\n",
    "data_col_away['prueba'] = data_col_away['home_score']-data_col_away['away_score']\n",
    "s = data_col_home.prueba.tolist()\n",
    "t = data_col_away.prueba.tolist()\n",
    "def resultados(s):\n",
    "    for i in range(len(s)):\n",
    "        if s[i]<0:\n",
    "            s[i]='perdio'\n",
    "        elif s[i]>0:\n",
    "            s[i]='gano'\n",
    "        else:\n",
    "            s[i]='empato'\n",
    "    return s            \n",
    "a = resultados(s)\n",
    "b= resultados(t)\n",
    "\n",
    "data_col_home['resultado'] = a\n",
    "data_col_away['resultado'] = b\n",
    "data_col_home\n"
   ]
  },
  {
   "cell_type": "code",
   "execution_count": 4,
   "metadata": {},
   "outputs": [],
   "source": [
    "torneos=['Copa América','FIFA World Cup','FIFA World Cup qualification','Friendly']\n",
    "data_torneo_home = data_col_home.groupby(['tournament'], as_index=False)['home_score','away_score'].sum()\n",
    "data_torneo_away = data_col_away.groupby(['tournament'], as_index=False)['home_score','away_score'].sum()"
   ]
  },
  {
   "cell_type": "code",
   "execution_count": 5,
   "metadata": {},
   "outputs": [
    {
     "data": {
      "application/vnd.plotly.v1+json": {
       "config": {
        "linkText": "Export to plot.ly",
        "plotlyServerURL": "https://plot.ly",
        "showLink": true
       },
       "data": [
        {
         "marker": {
          "color": "rgba(255, 153, 51, 0.6)",
          "line": {
           "color": "rgba(255, 153, 51, 1.0)",
           "width": 1
          }
         },
         "name": "home_score",
         "orientation": "v",
         "text": "",
         "type": "bar",
         "uid": "8049c23a-90a6-4227-b35c-04ca2d30c2b8",
         "x": [
          "Brazil Independence Cup",
          "Confederations Cup",
          "Copa América",
          "FIFA World Cup",
          "FIFA World Cup qualification",
          "Friendly",
          "Gold Cup",
          "Kirin Cup",
          "USA Cup"
         ],
         "y": [
          2,
          4,
          78,
          16,
          111,
          148,
          8,
          1,
          1
         ]
        },
        {
         "marker": {
          "color": "rgba(55, 128, 191, 0.6)",
          "line": {
           "color": "rgba(55, 128, 191, 1.0)",
           "width": 1
          }
         },
         "name": "away_score",
         "orientation": "v",
         "text": "",
         "type": "bar",
         "uid": "c6a07fb4-fa02-4142-8e8c-283ca6824d05",
         "x": [
          "Brazil Independence Cup",
          "Confederations Cup",
          "Copa América",
          "FIFA World Cup",
          "FIFA World Cup qualification",
          "Friendly",
          "Gold Cup",
          "Kirin Cup",
          "USA Cup"
         ],
         "y": [
          3,
          3,
          63,
          20,
          54,
          107,
          8,
          0,
          0
         ]
        }
       ],
       "layout": {
        "legend": {
         "bgcolor": "#F5F6F9",
         "font": {
          "color": "#4D5663"
         }
        },
        "paper_bgcolor": "#F5F6F9",
        "plot_bgcolor": "#F5F6F9",
        "title": {
         "font": {
          "color": "#4D5663"
         },
         "text": "goles de colombia desde 1872 to 2019 en condicion de local "
        },
        "xaxis": {
         "gridcolor": "#E1E5ED",
         "showgrid": true,
         "tickfont": {
          "color": "#4D5663"
         },
         "title": {
          "font": {
           "color": "#4D5663"
          },
          "text": "Tournament"
         },
         "zerolinecolor": "#E1E5ED"
        },
        "yaxis": {
         "gridcolor": "#E1E5ED",
         "showgrid": true,
         "tickfont": {
          "color": "#4D5663"
         },
         "title": {
          "font": {
           "color": "#4D5663"
          },
          "text": "Total goles"
         },
         "zerolinecolor": "#E1E5ED"
        }
       }
      },
      "text/html": [
       "<div>\n",
       "        \n",
       "        \n",
       "            <div id=\"a540ab1e-2d68-407e-81df-6a1e2e944edb\" class=\"plotly-graph-div\" style=\"height:525px; width:100%;\"></div>\n",
       "            <script type=\"text/javascript\">\n",
       "                require([\"plotly\"], function(Plotly) {\n",
       "                    window.PLOTLYENV=window.PLOTLYENV || {};\n",
       "                    window.PLOTLYENV.BASE_URL='https://plot.ly';\n",
       "                    \n",
       "                if (document.getElementById(\"a540ab1e-2d68-407e-81df-6a1e2e944edb\")) {\n",
       "                    Plotly.newPlot(\n",
       "                        'a540ab1e-2d68-407e-81df-6a1e2e944edb',\n",
       "                        [{\"marker\": {\"color\": \"rgba(255, 153, 51, 0.6)\", \"line\": {\"color\": \"rgba(255, 153, 51, 1.0)\", \"width\": 1}}, \"name\": \"home_score\", \"orientation\": \"v\", \"text\": \"\", \"type\": \"bar\", \"uid\": \"8049c23a-90a6-4227-b35c-04ca2d30c2b8\", \"x\": [\"Brazil Independence Cup\", \"Confederations Cup\", \"Copa Am\\u00e9rica\", \"FIFA World Cup\", \"FIFA World Cup qualification\", \"Friendly\", \"Gold Cup\", \"Kirin Cup\", \"USA Cup\"], \"y\": [2, 4, 78, 16, 111, 148, 8, 1, 1]}, {\"marker\": {\"color\": \"rgba(55, 128, 191, 0.6)\", \"line\": {\"color\": \"rgba(55, 128, 191, 1.0)\", \"width\": 1}}, \"name\": \"away_score\", \"orientation\": \"v\", \"text\": \"\", \"type\": \"bar\", \"uid\": \"c6a07fb4-fa02-4142-8e8c-283ca6824d05\", \"x\": [\"Brazil Independence Cup\", \"Confederations Cup\", \"Copa Am\\u00e9rica\", \"FIFA World Cup\", \"FIFA World Cup qualification\", \"Friendly\", \"Gold Cup\", \"Kirin Cup\", \"USA Cup\"], \"y\": [3, 3, 63, 20, 54, 107, 8, 0, 0]}],\n",
       "                        {\"legend\": {\"bgcolor\": \"#F5F6F9\", \"font\": {\"color\": \"#4D5663\"}}, \"paper_bgcolor\": \"#F5F6F9\", \"plot_bgcolor\": \"#F5F6F9\", \"title\": {\"font\": {\"color\": \"#4D5663\"}, \"text\": \"goles de colombia desde 1872 to 2019 en condicion de local \"}, \"xaxis\": {\"gridcolor\": \"#E1E5ED\", \"showgrid\": true, \"tickfont\": {\"color\": \"#4D5663\"}, \"title\": {\"font\": {\"color\": \"#4D5663\"}, \"text\": \"Tournament\"}, \"zerolinecolor\": \"#E1E5ED\"}, \"yaxis\": {\"gridcolor\": \"#E1E5ED\", \"showgrid\": true, \"tickfont\": {\"color\": \"#4D5663\"}, \"title\": {\"font\": {\"color\": \"#4D5663\"}, \"text\": \"Total goles\"}, \"zerolinecolor\": \"#E1E5ED\"}},\n",
       "                        {\"showLink\": true, \"linkText\": \"Export to plot.ly\", \"plotlyServerURL\": \"https://plot.ly\", \"responsive\": true}\n",
       "                    ).then(function(){\n",
       "                            \n",
       "var gd = document.getElementById('a540ab1e-2d68-407e-81df-6a1e2e944edb');\n",
       "var x = new MutationObserver(function (mutations, observer) {{\n",
       "        var display = window.getComputedStyle(gd).display;\n",
       "        if (!display || display === 'none') {{\n",
       "            console.log([gd, 'removed!']);\n",
       "            Plotly.purge(gd);\n",
       "            observer.disconnect();\n",
       "        }}\n",
       "}});\n",
       "\n",
       "// Listen for the removal of the full notebook cells\n",
       "var notebookContainer = gd.closest('#notebook-container');\n",
       "if (notebookContainer) {{\n",
       "    x.observe(notebookContainer, {childList: true});\n",
       "}}\n",
       "\n",
       "// Listen for the clearing of the current output cell\n",
       "var outputEl = gd.closest('.output');\n",
       "if (outputEl) {{\n",
       "    x.observe(outputEl, {childList: true});\n",
       "}}\n",
       "\n",
       "                        })\n",
       "                };\n",
       "                });\n",
       "            </script>\n",
       "        </div>"
      ]
     },
     "metadata": {},
     "output_type": "display_data"
    }
   ],
   "source": [
    "data_torneo_home.iplot(kind='bar', x='tournament', xTitle='Tournament',\n",
    "           yTitle='Total goles', title='goles de colombia desde 1872 to 2019 en condicion de local ')"
   ]
  },
  {
   "cell_type": "code",
   "execution_count": 6,
   "metadata": {},
   "outputs": [
    {
     "data": {
      "application/vnd.plotly.v1+json": {
       "config": {
        "linkText": "Export to plot.ly",
        "plotlyServerURL": "https://plot.ly",
        "showLink": true
       },
       "data": [
        {
         "marker": {
          "color": "rgba(255, 153, 51, 0.6)",
          "line": {
           "color": "rgba(255, 153, 51, 1.0)",
           "width": 1
          }
         },
         "name": "home_score",
         "orientation": "v",
         "text": "",
         "type": "bar",
         "uid": "e6a4d9f4-e38d-4aac-97f6-3b9f530736c9",
         "x": [
          "Brazil Independence Cup",
          "Confederations Cup",
          "Copa América",
          "FIFA World Cup",
          "FIFA World Cup qualification",
          "Friendly",
          "Gold Cup",
          "Kirin Cup",
          "Lunar New Year Cup",
          "Rous Cup",
          "USA Cup"
         ],
         "y": [
          4,
          2,
          126,
          10,
          101,
          128,
          9,
          0,
          1,
          1,
          0
         ]
        },
        {
         "marker": {
          "color": "rgba(55, 128, 191, 0.6)",
          "line": {
           "color": "rgba(55, 128, 191, 1.0)",
           "width": 1
          }
         },
         "name": "away_score",
         "orientation": "v",
         "text": "",
         "type": "bar",
         "uid": "77af447d-1e1f-4ac1-b79d-3821868d0b7d",
         "x": [
          "Brazil Independence Cup",
          "Confederations Cup",
          "Copa América",
          "FIFA World Cup",
          "FIFA World Cup qualification",
          "Friendly",
          "Gold Cup",
          "Kirin Cup",
          "Lunar New Year Cup",
          "Rous Cup",
          "USA Cup"
         ],
         "y": [
          1,
          1,
          59,
          16,
          68,
          148,
          6,
          0,
          0,
          1,
          0
         ]
        }
       ],
       "layout": {
        "legend": {
         "bgcolor": "#F5F6F9",
         "font": {
          "color": "#4D5663"
         }
        },
        "paper_bgcolor": "#F5F6F9",
        "plot_bgcolor": "#F5F6F9",
        "title": {
         "font": {
          "color": "#4D5663"
         },
         "text": "goles de colombia desde 1872 to 2019 en condicion de visitante "
        },
        "xaxis": {
         "gridcolor": "#E1E5ED",
         "showgrid": true,
         "tickfont": {
          "color": "#4D5663"
         },
         "title": {
          "font": {
           "color": "#4D5663"
          },
          "text": "Tournament"
         },
         "zerolinecolor": "#E1E5ED"
        },
        "yaxis": {
         "gridcolor": "#E1E5ED",
         "showgrid": true,
         "tickfont": {
          "color": "#4D5663"
         },
         "title": {
          "font": {
           "color": "#4D5663"
          },
          "text": "Total goles"
         },
         "zerolinecolor": "#E1E5ED"
        }
       }
      },
      "text/html": [
       "<div>\n",
       "        \n",
       "        \n",
       "            <div id=\"22415514-ab8e-42e9-af7f-237fb4e632d6\" class=\"plotly-graph-div\" style=\"height:525px; width:100%;\"></div>\n",
       "            <script type=\"text/javascript\">\n",
       "                require([\"plotly\"], function(Plotly) {\n",
       "                    window.PLOTLYENV=window.PLOTLYENV || {};\n",
       "                    window.PLOTLYENV.BASE_URL='https://plot.ly';\n",
       "                    \n",
       "                if (document.getElementById(\"22415514-ab8e-42e9-af7f-237fb4e632d6\")) {\n",
       "                    Plotly.newPlot(\n",
       "                        '22415514-ab8e-42e9-af7f-237fb4e632d6',\n",
       "                        [{\"marker\": {\"color\": \"rgba(255, 153, 51, 0.6)\", \"line\": {\"color\": \"rgba(255, 153, 51, 1.0)\", \"width\": 1}}, \"name\": \"home_score\", \"orientation\": \"v\", \"text\": \"\", \"type\": \"bar\", \"uid\": \"e6a4d9f4-e38d-4aac-97f6-3b9f530736c9\", \"x\": [\"Brazil Independence Cup\", \"Confederations Cup\", \"Copa Am\\u00e9rica\", \"FIFA World Cup\", \"FIFA World Cup qualification\", \"Friendly\", \"Gold Cup\", \"Kirin Cup\", \"Lunar New Year Cup\", \"Rous Cup\", \"USA Cup\"], \"y\": [4, 2, 126, 10, 101, 128, 9, 0, 1, 1, 0]}, {\"marker\": {\"color\": \"rgba(55, 128, 191, 0.6)\", \"line\": {\"color\": \"rgba(55, 128, 191, 1.0)\", \"width\": 1}}, \"name\": \"away_score\", \"orientation\": \"v\", \"text\": \"\", \"type\": \"bar\", \"uid\": \"77af447d-1e1f-4ac1-b79d-3821868d0b7d\", \"x\": [\"Brazil Independence Cup\", \"Confederations Cup\", \"Copa Am\\u00e9rica\", \"FIFA World Cup\", \"FIFA World Cup qualification\", \"Friendly\", \"Gold Cup\", \"Kirin Cup\", \"Lunar New Year Cup\", \"Rous Cup\", \"USA Cup\"], \"y\": [1, 1, 59, 16, 68, 148, 6, 0, 0, 1, 0]}],\n",
       "                        {\"legend\": {\"bgcolor\": \"#F5F6F9\", \"font\": {\"color\": \"#4D5663\"}}, \"paper_bgcolor\": \"#F5F6F9\", \"plot_bgcolor\": \"#F5F6F9\", \"title\": {\"font\": {\"color\": \"#4D5663\"}, \"text\": \"goles de colombia desde 1872 to 2019 en condicion de visitante \"}, \"xaxis\": {\"gridcolor\": \"#E1E5ED\", \"showgrid\": true, \"tickfont\": {\"color\": \"#4D5663\"}, \"title\": {\"font\": {\"color\": \"#4D5663\"}, \"text\": \"Tournament\"}, \"zerolinecolor\": \"#E1E5ED\"}, \"yaxis\": {\"gridcolor\": \"#E1E5ED\", \"showgrid\": true, \"tickfont\": {\"color\": \"#4D5663\"}, \"title\": {\"font\": {\"color\": \"#4D5663\"}, \"text\": \"Total goles\"}, \"zerolinecolor\": \"#E1E5ED\"}},\n",
       "                        {\"showLink\": true, \"linkText\": \"Export to plot.ly\", \"plotlyServerURL\": \"https://plot.ly\", \"responsive\": true}\n",
       "                    ).then(function(){\n",
       "                            \n",
       "var gd = document.getElementById('22415514-ab8e-42e9-af7f-237fb4e632d6');\n",
       "var x = new MutationObserver(function (mutations, observer) {{\n",
       "        var display = window.getComputedStyle(gd).display;\n",
       "        if (!display || display === 'none') {{\n",
       "            console.log([gd, 'removed!']);\n",
       "            Plotly.purge(gd);\n",
       "            observer.disconnect();\n",
       "        }}\n",
       "}});\n",
       "\n",
       "// Listen for the removal of the full notebook cells\n",
       "var notebookContainer = gd.closest('#notebook-container');\n",
       "if (notebookContainer) {{\n",
       "    x.observe(notebookContainer, {childList: true});\n",
       "}}\n",
       "\n",
       "// Listen for the clearing of the current output cell\n",
       "var outputEl = gd.closest('.output');\n",
       "if (outputEl) {{\n",
       "    x.observe(outputEl, {childList: true});\n",
       "}}\n",
       "\n",
       "                        })\n",
       "                };\n",
       "                });\n",
       "            </script>\n",
       "        </div>"
      ]
     },
     "metadata": {},
     "output_type": "display_data"
    }
   ],
   "source": [
    "data_torneo_away.iplot(kind='bar', x='tournament', xTitle='Tournament',\n",
    "           yTitle='Total goles', title='goles de colombia desde 1872 to 2019 en condicion de visitante ')"
   ]
  },
  {
   "cell_type": "code",
   "execution_count": 7,
   "metadata": {},
   "outputs": [
    {
     "data": {
      "text/html": [
       "<div>\n",
       "<style scoped>\n",
       "    .dataframe tbody tr th:only-of-type {\n",
       "        vertical-align: middle;\n",
       "    }\n",
       "\n",
       "    .dataframe tbody tr th {\n",
       "        vertical-align: top;\n",
       "    }\n",
       "\n",
       "    .dataframe thead th {\n",
       "        text-align: right;\n",
       "    }\n",
       "</style>\n",
       "<table border=\"1\" class=\"dataframe\">\n",
       "  <thead>\n",
       "    <tr style=\"text-align: right;\">\n",
       "      <th></th>\n",
       "      <th>country</th>\n",
       "      <th>home_score</th>\n",
       "      <th>away_score</th>\n",
       "    </tr>\n",
       "  </thead>\n",
       "  <tbody>\n",
       "    <tr>\n",
       "      <th>0</th>\n",
       "      <td>Argentina</td>\n",
       "      <td>1.473684</td>\n",
       "      <td>1.210526</td>\n",
       "    </tr>\n",
       "    <tr>\n",
       "      <th>1</th>\n",
       "      <td>Brazil</td>\n",
       "      <td>1.476744</td>\n",
       "      <td>1.534884</td>\n",
       "    </tr>\n",
       "    <tr>\n",
       "      <th>2</th>\n",
       "      <td>Chile</td>\n",
       "      <td>1.406250</td>\n",
       "      <td>1.375000</td>\n",
       "    </tr>\n",
       "    <tr>\n",
       "      <th>3</th>\n",
       "      <td>England</td>\n",
       "      <td>1.437500</td>\n",
       "      <td>1.343750</td>\n",
       "    </tr>\n",
       "    <tr>\n",
       "      <th>4</th>\n",
       "      <td>France</td>\n",
       "      <td>1.792683</td>\n",
       "      <td>1.317073</td>\n",
       "    </tr>\n",
       "    <tr>\n",
       "      <th>5</th>\n",
       "      <td>Germany</td>\n",
       "      <td>1.431373</td>\n",
       "      <td>0.960784</td>\n",
       "    </tr>\n",
       "    <tr>\n",
       "      <th>6</th>\n",
       "      <td>Italy</td>\n",
       "      <td>1.507246</td>\n",
       "      <td>1.173913</td>\n",
       "    </tr>\n",
       "    <tr>\n",
       "      <th>7</th>\n",
       "      <td>Japan</td>\n",
       "      <td>1.218750</td>\n",
       "      <td>1.000000</td>\n",
       "    </tr>\n",
       "    <tr>\n",
       "      <th>8</th>\n",
       "      <td>Mexico</td>\n",
       "      <td>1.500000</td>\n",
       "      <td>1.202381</td>\n",
       "    </tr>\n",
       "    <tr>\n",
       "      <th>9</th>\n",
       "      <td>Russia</td>\n",
       "      <td>1.375000</td>\n",
       "      <td>1.265625</td>\n",
       "    </tr>\n",
       "    <tr>\n",
       "      <th>10</th>\n",
       "      <td>South Africa</td>\n",
       "      <td>1.203125</td>\n",
       "      <td>1.062500</td>\n",
       "    </tr>\n",
       "    <tr>\n",
       "      <th>11</th>\n",
       "      <td>South Korea</td>\n",
       "      <td>1.625000</td>\n",
       "      <td>1.187500</td>\n",
       "    </tr>\n",
       "    <tr>\n",
       "      <th>12</th>\n",
       "      <td>Spain</td>\n",
       "      <td>1.826923</td>\n",
       "      <td>0.980769</td>\n",
       "    </tr>\n",
       "    <tr>\n",
       "      <th>13</th>\n",
       "      <td>Sweden</td>\n",
       "      <td>2.000000</td>\n",
       "      <td>1.600000</td>\n",
       "    </tr>\n",
       "    <tr>\n",
       "      <th>14</th>\n",
       "      <td>Switzerland</td>\n",
       "      <td>2.730769</td>\n",
       "      <td>2.653846</td>\n",
       "    </tr>\n",
       "    <tr>\n",
       "      <th>15</th>\n",
       "      <td>United States</td>\n",
       "      <td>1.576923</td>\n",
       "      <td>1.134615</td>\n",
       "    </tr>\n",
       "    <tr>\n",
       "      <th>16</th>\n",
       "      <td>Uruguay</td>\n",
       "      <td>2.277778</td>\n",
       "      <td>1.611111</td>\n",
       "    </tr>\n",
       "  </tbody>\n",
       "</table>\n",
       "</div>"
      ],
      "text/plain": [
       "          country  home_score  away_score\n",
       "0       Argentina    1.473684    1.210526\n",
       "1          Brazil    1.476744    1.534884\n",
       "2           Chile    1.406250    1.375000\n",
       "3         England    1.437500    1.343750\n",
       "4          France    1.792683    1.317073\n",
       "5         Germany    1.431373    0.960784\n",
       "6           Italy    1.507246    1.173913\n",
       "7           Japan    1.218750    1.000000\n",
       "8          Mexico    1.500000    1.202381\n",
       "9          Russia    1.375000    1.265625\n",
       "10   South Africa    1.203125    1.062500\n",
       "11    South Korea    1.625000    1.187500\n",
       "12          Spain    1.826923    0.980769\n",
       "13         Sweden    2.000000    1.600000\n",
       "14    Switzerland    2.730769    2.653846\n",
       "15  United States    1.576923    1.134615\n",
       "16        Uruguay    2.277778    1.611111"
      ]
     },
     "execution_count": 7,
     "metadata": {},
     "output_type": "execute_result"
    }
   ],
   "source": [
    "mundial = data[data.tournament=='FIFA World Cup'][['home_score','away_score','country']]\n",
    "mundial = mundial.groupby('country', as_index=False).mean()\n",
    "mundial\n"
   ]
  },
  {
   "cell_type": "code",
   "execution_count": 8,
   "metadata": {},
   "outputs": [
    {
     "data": {
      "application/vnd.plotly.v1+json": {
       "config": {
        "linkText": "Export to plot.ly",
        "plotlyServerURL": "https://plot.ly",
        "showLink": true
       },
       "data": [
        {
         "marker": {
          "color": "rgba(255, 153, 51, 1.0)",
          "line": {
           "width": 1.3
          },
          "opacity": 0.8,
          "size": 12,
          "symbol": "circle"
         },
         "mode": "markers",
         "name": "Argentina",
         "textfont": {
          "color": "#4D5663"
         },
         "type": "scatter",
         "uid": "cab2ffac-fa62-4edf-90a4-a5799294df58",
         "x": [
          1.4736842105263157
         ],
         "y": [
          1.2105263157894737
         ]
        },
        {
         "marker": {
          "color": "rgba(55, 128, 191, 1.0)",
          "line": {
           "width": 1.3
          },
          "opacity": 0.8,
          "size": 12,
          "symbol": "circle"
         },
         "mode": "markers",
         "name": "Brazil",
         "textfont": {
          "color": "#4D5663"
         },
         "type": "scatter",
         "uid": "b059212f-c00d-468f-bfd2-1f75612ae1c7",
         "x": [
          1.4767441860465116
         ],
         "y": [
          1.5348837209302326
         ]
        },
        {
         "marker": {
          "color": "rgba(50, 171, 96, 1.0)",
          "line": {
           "width": 1.3
          },
          "opacity": 0.8,
          "size": 12,
          "symbol": "circle"
         },
         "mode": "markers",
         "name": "Chile",
         "textfont": {
          "color": "#4D5663"
         },
         "type": "scatter",
         "uid": "949bab93-e64b-45b6-8222-d2ca60c7ae44",
         "x": [
          1.40625
         ],
         "y": [
          1.375
         ]
        },
        {
         "marker": {
          "color": "rgba(128, 0, 128, 1.0)",
          "line": {
           "width": 1.3
          },
          "opacity": 0.8,
          "size": 12,
          "symbol": "circle"
         },
         "mode": "markers",
         "name": "England",
         "textfont": {
          "color": "#4D5663"
         },
         "type": "scatter",
         "uid": "f1b94643-6ec5-4530-a4ba-641b771f61ad",
         "x": [
          1.4375
         ],
         "y": [
          1.34375
         ]
        },
        {
         "marker": {
          "color": "rgba(219, 64, 82, 1.0)",
          "line": {
           "width": 1.3
          },
          "opacity": 0.8,
          "size": 12,
          "symbol": "circle"
         },
         "mode": "markers",
         "name": "France",
         "textfont": {
          "color": "#4D5663"
         },
         "type": "scatter",
         "uid": "ac13d3a2-422d-4229-bc8d-cdc136d243be",
         "x": [
          1.7926829268292683
         ],
         "y": [
          1.3170731707317074
         ]
        },
        {
         "marker": {
          "color": "rgba(0, 128, 128, 1.0)",
          "line": {
           "width": 1.3
          },
          "opacity": 0.8,
          "size": 12,
          "symbol": "circle"
         },
         "mode": "markers",
         "name": "Germany",
         "textfont": {
          "color": "#4D5663"
         },
         "type": "scatter",
         "uid": "88fe1b03-f13a-4cb7-978f-96570c252733",
         "x": [
          1.4313725490196079
         ],
         "y": [
          0.9607843137254902
         ]
        },
        {
         "marker": {
          "color": "rgba(255, 255, 51, 1.0)",
          "line": {
           "width": 1.3
          },
          "opacity": 0.8,
          "size": 12,
          "symbol": "circle"
         },
         "mode": "markers",
         "name": "Italy",
         "textfont": {
          "color": "#4D5663"
         },
         "type": "scatter",
         "uid": "ac148bc7-5399-4d17-b9b5-972b9c8383eb",
         "x": [
          1.5072463768115942
         ],
         "y": [
          1.173913043478261
         ]
        },
        {
         "marker": {
          "color": "rgba(128, 128, 0, 1.0)",
          "line": {
           "width": 1.3
          },
          "opacity": 0.8,
          "size": 12,
          "symbol": "circle"
         },
         "mode": "markers",
         "name": "Japan",
         "textfont": {
          "color": "#4D5663"
         },
         "type": "scatter",
         "uid": "9ee5fdf0-6280-42d4-94ad-1a42d4a5e5f7",
         "x": [
          1.21875
         ],
         "y": [
          1
         ]
        },
        {
         "marker": {
          "color": "rgba(251, 128, 114, 1.0)",
          "line": {
           "width": 1.3
          },
          "opacity": 0.8,
          "size": 12,
          "symbol": "circle"
         },
         "mode": "markers",
         "name": "Mexico",
         "textfont": {
          "color": "#4D5663"
         },
         "type": "scatter",
         "uid": "3100954b-50eb-4bb0-b580-0e8fac049b44",
         "x": [
          1.5
         ],
         "y": [
          1.2023809523809523
         ]
        },
        {
         "marker": {
          "color": "rgba(128, 177, 211, 1.0)",
          "line": {
           "width": 1.3
          },
          "opacity": 0.8,
          "size": 12,
          "symbol": "circle"
         },
         "mode": "markers",
         "name": "Russia",
         "textfont": {
          "color": "#4D5663"
         },
         "type": "scatter",
         "uid": "d9768b93-fb23-43b4-a476-3bda37abdce6",
         "x": [
          1.375
         ],
         "y": [
          1.265625
         ]
        },
        {
         "marker": {
          "color": "rgba(128, 177, 211, 0.8999999999999999)",
          "line": {
           "width": 1.3
          },
          "opacity": 0.8,
          "size": 12,
          "symbol": "circle"
         },
         "mode": "markers",
         "name": "South Africa",
         "textfont": {
          "color": "#4D5663"
         },
         "type": "scatter",
         "uid": "e6d16880-d791-453f-be44-cc3b7534e9f7",
         "x": [
          1.203125
         ],
         "y": [
          1.0625
         ]
        },
        {
         "marker": {
          "color": "rgba(255, 153, 51, 0.8999999999999999)",
          "line": {
           "width": 1.3
          },
          "opacity": 0.8,
          "size": 12,
          "symbol": "circle"
         },
         "mode": "markers",
         "name": "South Korea",
         "textfont": {
          "color": "#4D5663"
         },
         "type": "scatter",
         "uid": "c85f254a-944f-4901-a79b-11458b51fda2",
         "x": [
          1.625
         ],
         "y": [
          1.1875
         ]
        },
        {
         "marker": {
          "color": "rgba(55, 128, 191, 0.8999999999999999)",
          "line": {
           "width": 1.3
          },
          "opacity": 0.8,
          "size": 12,
          "symbol": "circle"
         },
         "mode": "markers",
         "name": "Spain",
         "textfont": {
          "color": "#4D5663"
         },
         "type": "scatter",
         "uid": "d08f840d-c0c3-491d-8945-453161062779",
         "x": [
          1.8269230769230769
         ],
         "y": [
          0.9807692307692307
         ]
        },
        {
         "marker": {
          "color": "rgba(50, 171, 96, 0.8999999999999999)",
          "line": {
           "width": 1.3
          },
          "opacity": 0.8,
          "size": 12,
          "symbol": "circle"
         },
         "mode": "markers",
         "name": "Sweden",
         "textfont": {
          "color": "#4D5663"
         },
         "type": "scatter",
         "uid": "ddd6990a-c20b-4abd-a650-54e40c541afd",
         "x": [
          2
         ],
         "y": [
          1.6
         ]
        },
        {
         "marker": {
          "color": "rgba(128, 0, 128, 0.8999999999999999)",
          "line": {
           "width": 1.3
          },
          "opacity": 0.8,
          "size": 12,
          "symbol": "circle"
         },
         "mode": "markers",
         "name": "Switzerland",
         "textfont": {
          "color": "#4D5663"
         },
         "type": "scatter",
         "uid": "a96f066a-c189-444d-af66-17784d424834",
         "x": [
          2.730769230769231
         ],
         "y": [
          2.6538461538461537
         ]
        },
        {
         "marker": {
          "color": "rgba(219, 64, 82, 0.8999999999999999)",
          "line": {
           "width": 1.3
          },
          "opacity": 0.8,
          "size": 12,
          "symbol": "circle"
         },
         "mode": "markers",
         "name": "United States",
         "textfont": {
          "color": "#4D5663"
         },
         "type": "scatter",
         "uid": "21ff7f6d-0d20-4060-9994-77bafd598a5b",
         "x": [
          1.5769230769230769
         ],
         "y": [
          1.1346153846153846
         ]
        },
        {
         "marker": {
          "color": "rgba(0, 128, 128, 0.8999999999999999)",
          "line": {
           "width": 1.3
          },
          "opacity": 0.8,
          "size": 12,
          "symbol": "circle"
         },
         "mode": "markers",
         "name": "Uruguay",
         "textfont": {
          "color": "#4D5663"
         },
         "type": "scatter",
         "uid": "f7ca5587-2f61-45aa-983c-05c582f054af",
         "x": [
          2.2777777777777777
         ],
         "y": [
          1.6111111111111112
         ]
        }
       ],
       "layout": {
        "legend": {
         "bgcolor": "#F5F6F9",
         "font": {
          "color": "#4D5663"
         }
        },
        "paper_bgcolor": "#F5F6F9",
        "plot_bgcolor": "#F5F6F9",
        "title": {
         "font": {
          "color": "#4D5663"
         },
         "text": "promedio de goles en los mundiales"
        },
        "xaxis": {
         "gridcolor": "#E1E5ED",
         "showgrid": true,
         "tickfont": {
          "color": "#4D5663"
         },
         "title": {
          "font": {
           "color": "#4D5663"
          },
          "text": "Average Home Score"
         },
         "zerolinecolor": "#E1E5ED"
        },
        "yaxis": {
         "gridcolor": "#E1E5ED",
         "showgrid": true,
         "tickfont": {
          "color": "#4D5663"
         },
         "title": {
          "font": {
           "color": "#4D5663"
          },
          "text": "Average Away_score"
         },
         "zerolinecolor": "#E1E5ED"
        }
       }
      },
      "text/html": [
       "<div>\n",
       "        \n",
       "        \n",
       "            <div id=\"075f32e4-abfc-4d4e-86e9-56b58d4899c0\" class=\"plotly-graph-div\" style=\"height:525px; width:100%;\"></div>\n",
       "            <script type=\"text/javascript\">\n",
       "                require([\"plotly\"], function(Plotly) {\n",
       "                    window.PLOTLYENV=window.PLOTLYENV || {};\n",
       "                    window.PLOTLYENV.BASE_URL='https://plot.ly';\n",
       "                    \n",
       "                if (document.getElementById(\"075f32e4-abfc-4d4e-86e9-56b58d4899c0\")) {\n",
       "                    Plotly.newPlot(\n",
       "                        '075f32e4-abfc-4d4e-86e9-56b58d4899c0',\n",
       "                        [{\"marker\": {\"color\": \"rgba(255, 153, 51, 1.0)\", \"line\": {\"width\": 1.3}, \"opacity\": 0.8, \"size\": 12, \"symbol\": \"circle\"}, \"mode\": \"markers\", \"name\": \"Argentina\", \"textfont\": {\"color\": \"#4D5663\"}, \"type\": \"scatter\", \"uid\": \"cab2ffac-fa62-4edf-90a4-a5799294df58\", \"x\": [1.4736842105263157], \"y\": [1.2105263157894737]}, {\"marker\": {\"color\": \"rgba(55, 128, 191, 1.0)\", \"line\": {\"width\": 1.3}, \"opacity\": 0.8, \"size\": 12, \"symbol\": \"circle\"}, \"mode\": \"markers\", \"name\": \"Brazil\", \"textfont\": {\"color\": \"#4D5663\"}, \"type\": \"scatter\", \"uid\": \"b059212f-c00d-468f-bfd2-1f75612ae1c7\", \"x\": [1.4767441860465116], \"y\": [1.5348837209302326]}, {\"marker\": {\"color\": \"rgba(50, 171, 96, 1.0)\", \"line\": {\"width\": 1.3}, \"opacity\": 0.8, \"size\": 12, \"symbol\": \"circle\"}, \"mode\": \"markers\", \"name\": \"Chile\", \"textfont\": {\"color\": \"#4D5663\"}, \"type\": \"scatter\", \"uid\": \"949bab93-e64b-45b6-8222-d2ca60c7ae44\", \"x\": [1.40625], \"y\": [1.375]}, {\"marker\": {\"color\": \"rgba(128, 0, 128, 1.0)\", \"line\": {\"width\": 1.3}, \"opacity\": 0.8, \"size\": 12, \"symbol\": \"circle\"}, \"mode\": \"markers\", \"name\": \"England\", \"textfont\": {\"color\": \"#4D5663\"}, \"type\": \"scatter\", \"uid\": \"f1b94643-6ec5-4530-a4ba-641b771f61ad\", \"x\": [1.4375], \"y\": [1.34375]}, {\"marker\": {\"color\": \"rgba(219, 64, 82, 1.0)\", \"line\": {\"width\": 1.3}, \"opacity\": 0.8, \"size\": 12, \"symbol\": \"circle\"}, \"mode\": \"markers\", \"name\": \"France\", \"textfont\": {\"color\": \"#4D5663\"}, \"type\": \"scatter\", \"uid\": \"ac13d3a2-422d-4229-bc8d-cdc136d243be\", \"x\": [1.7926829268292683], \"y\": [1.3170731707317074]}, {\"marker\": {\"color\": \"rgba(0, 128, 128, 1.0)\", \"line\": {\"width\": 1.3}, \"opacity\": 0.8, \"size\": 12, \"symbol\": \"circle\"}, \"mode\": \"markers\", \"name\": \"Germany\", \"textfont\": {\"color\": \"#4D5663\"}, \"type\": \"scatter\", \"uid\": \"88fe1b03-f13a-4cb7-978f-96570c252733\", \"x\": [1.4313725490196079], \"y\": [0.9607843137254902]}, {\"marker\": {\"color\": \"rgba(255, 255, 51, 1.0)\", \"line\": {\"width\": 1.3}, \"opacity\": 0.8, \"size\": 12, \"symbol\": \"circle\"}, \"mode\": \"markers\", \"name\": \"Italy\", \"textfont\": {\"color\": \"#4D5663\"}, \"type\": \"scatter\", \"uid\": \"ac148bc7-5399-4d17-b9b5-972b9c8383eb\", \"x\": [1.5072463768115942], \"y\": [1.173913043478261]}, {\"marker\": {\"color\": \"rgba(128, 128, 0, 1.0)\", \"line\": {\"width\": 1.3}, \"opacity\": 0.8, \"size\": 12, \"symbol\": \"circle\"}, \"mode\": \"markers\", \"name\": \"Japan\", \"textfont\": {\"color\": \"#4D5663\"}, \"type\": \"scatter\", \"uid\": \"9ee5fdf0-6280-42d4-94ad-1a42d4a5e5f7\", \"x\": [1.21875], \"y\": [1.0]}, {\"marker\": {\"color\": \"rgba(251, 128, 114, 1.0)\", \"line\": {\"width\": 1.3}, \"opacity\": 0.8, \"size\": 12, \"symbol\": \"circle\"}, \"mode\": \"markers\", \"name\": \"Mexico\", \"textfont\": {\"color\": \"#4D5663\"}, \"type\": \"scatter\", \"uid\": \"3100954b-50eb-4bb0-b580-0e8fac049b44\", \"x\": [1.5], \"y\": [1.2023809523809523]}, {\"marker\": {\"color\": \"rgba(128, 177, 211, 1.0)\", \"line\": {\"width\": 1.3}, \"opacity\": 0.8, \"size\": 12, \"symbol\": \"circle\"}, \"mode\": \"markers\", \"name\": \"Russia\", \"textfont\": {\"color\": \"#4D5663\"}, \"type\": \"scatter\", \"uid\": \"d9768b93-fb23-43b4-a476-3bda37abdce6\", \"x\": [1.375], \"y\": [1.265625]}, {\"marker\": {\"color\": \"rgba(128, 177, 211, 0.8999999999999999)\", \"line\": {\"width\": 1.3}, \"opacity\": 0.8, \"size\": 12, \"symbol\": \"circle\"}, \"mode\": \"markers\", \"name\": \"South Africa\", \"textfont\": {\"color\": \"#4D5663\"}, \"type\": \"scatter\", \"uid\": \"e6d16880-d791-453f-be44-cc3b7534e9f7\", \"x\": [1.203125], \"y\": [1.0625]}, {\"marker\": {\"color\": \"rgba(255, 153, 51, 0.8999999999999999)\", \"line\": {\"width\": 1.3}, \"opacity\": 0.8, \"size\": 12, \"symbol\": \"circle\"}, \"mode\": \"markers\", \"name\": \"South Korea\", \"textfont\": {\"color\": \"#4D5663\"}, \"type\": \"scatter\", \"uid\": \"c85f254a-944f-4901-a79b-11458b51fda2\", \"x\": [1.625], \"y\": [1.1875]}, {\"marker\": {\"color\": \"rgba(55, 128, 191, 0.8999999999999999)\", \"line\": {\"width\": 1.3}, \"opacity\": 0.8, \"size\": 12, \"symbol\": \"circle\"}, \"mode\": \"markers\", \"name\": \"Spain\", \"textfont\": {\"color\": \"#4D5663\"}, \"type\": \"scatter\", \"uid\": \"d08f840d-c0c3-491d-8945-453161062779\", \"x\": [1.8269230769230769], \"y\": [0.9807692307692307]}, {\"marker\": {\"color\": \"rgba(50, 171, 96, 0.8999999999999999)\", \"line\": {\"width\": 1.3}, \"opacity\": 0.8, \"size\": 12, \"symbol\": \"circle\"}, \"mode\": \"markers\", \"name\": \"Sweden\", \"textfont\": {\"color\": \"#4D5663\"}, \"type\": \"scatter\", \"uid\": \"ddd6990a-c20b-4abd-a650-54e40c541afd\", \"x\": [2.0], \"y\": [1.6]}, {\"marker\": {\"color\": \"rgba(128, 0, 128, 0.8999999999999999)\", \"line\": {\"width\": 1.3}, \"opacity\": 0.8, \"size\": 12, \"symbol\": \"circle\"}, \"mode\": \"markers\", \"name\": \"Switzerland\", \"textfont\": {\"color\": \"#4D5663\"}, \"type\": \"scatter\", \"uid\": \"a96f066a-c189-444d-af66-17784d424834\", \"x\": [2.730769230769231], \"y\": [2.6538461538461537]}, {\"marker\": {\"color\": \"rgba(219, 64, 82, 0.8999999999999999)\", \"line\": {\"width\": 1.3}, \"opacity\": 0.8, \"size\": 12, \"symbol\": \"circle\"}, \"mode\": \"markers\", \"name\": \"United States\", \"textfont\": {\"color\": \"#4D5663\"}, \"type\": \"scatter\", \"uid\": \"21ff7f6d-0d20-4060-9994-77bafd598a5b\", \"x\": [1.5769230769230769], \"y\": [1.1346153846153846]}, {\"marker\": {\"color\": \"rgba(0, 128, 128, 0.8999999999999999)\", \"line\": {\"width\": 1.3}, \"opacity\": 0.8, \"size\": 12, \"symbol\": \"circle\"}, \"mode\": \"markers\", \"name\": \"Uruguay\", \"textfont\": {\"color\": \"#4D5663\"}, \"type\": \"scatter\", \"uid\": \"f7ca5587-2f61-45aa-983c-05c582f054af\", \"x\": [2.2777777777777777], \"y\": [1.6111111111111112]}],\n",
       "                        {\"legend\": {\"bgcolor\": \"#F5F6F9\", \"font\": {\"color\": \"#4D5663\"}}, \"paper_bgcolor\": \"#F5F6F9\", \"plot_bgcolor\": \"#F5F6F9\", \"title\": {\"font\": {\"color\": \"#4D5663\"}, \"text\": \"promedio de goles en los mundiales\"}, \"xaxis\": {\"gridcolor\": \"#E1E5ED\", \"showgrid\": true, \"tickfont\": {\"color\": \"#4D5663\"}, \"title\": {\"font\": {\"color\": \"#4D5663\"}, \"text\": \"Average Home Score\"}, \"zerolinecolor\": \"#E1E5ED\"}, \"yaxis\": {\"gridcolor\": \"#E1E5ED\", \"showgrid\": true, \"tickfont\": {\"color\": \"#4D5663\"}, \"title\": {\"font\": {\"color\": \"#4D5663\"}, \"text\": \"Average Away_score\"}, \"zerolinecolor\": \"#E1E5ED\"}},\n",
       "                        {\"showLink\": true, \"linkText\": \"Export to plot.ly\", \"plotlyServerURL\": \"https://plot.ly\", \"responsive\": true}\n",
       "                    ).then(function(){\n",
       "                            \n",
       "var gd = document.getElementById('075f32e4-abfc-4d4e-86e9-56b58d4899c0');\n",
       "var x = new MutationObserver(function (mutations, observer) {{\n",
       "        var display = window.getComputedStyle(gd).display;\n",
       "        if (!display || display === 'none') {{\n",
       "            console.log([gd, 'removed!']);\n",
       "            Plotly.purge(gd);\n",
       "            observer.disconnect();\n",
       "        }}\n",
       "}});\n",
       "\n",
       "// Listen for the removal of the full notebook cells\n",
       "var notebookContainer = gd.closest('#notebook-container');\n",
       "if (notebookContainer) {{\n",
       "    x.observe(notebookContainer, {childList: true});\n",
       "}}\n",
       "\n",
       "// Listen for the clearing of the current output cell\n",
       "var outputEl = gd.closest('.output');\n",
       "if (outputEl) {{\n",
       "    x.observe(outputEl, {childList: true});\n",
       "}}\n",
       "\n",
       "                        })\n",
       "                };\n",
       "                });\n",
       "            </script>\n",
       "        </div>"
      ]
     },
     "metadata": {},
     "output_type": "display_data"
    }
   ],
   "source": [
    "mundial.iplot(x='home_score', y='away_score', categories='country',\n",
    "           xTitle='Average Home Score', yTitle='Average Away_score',\n",
    "           title='promedio de goles en los mundiales')"
   ]
  },
  {
   "cell_type": "code",
   "execution_count": 24,
   "metadata": {},
   "outputs": [
    {
     "data": {
      "text/html": [
       "<div>\n",
       "<style scoped>\n",
       "    .dataframe tbody tr th:only-of-type {\n",
       "        vertical-align: middle;\n",
       "    }\n",
       "\n",
       "    .dataframe tbody tr th {\n",
       "        vertical-align: top;\n",
       "    }\n",
       "\n",
       "    .dataframe thead th {\n",
       "        text-align: right;\n",
       "    }\n",
       "</style>\n",
       "<table border=\"1\" class=\"dataframe\">\n",
       "  <thead>\n",
       "    <tr style=\"text-align: right;\">\n",
       "      <th>country</th>\n",
       "      <th>Brazil</th>\n",
       "      <th>Germany</th>\n",
       "      <th>South Africa</th>\n",
       "      <th>Spain</th>\n",
       "    </tr>\n",
       "    <tr>\n",
       "      <th>away_score</th>\n",
       "      <th></th>\n",
       "      <th></th>\n",
       "      <th></th>\n",
       "      <th></th>\n",
       "    </tr>\n",
       "  </thead>\n",
       "  <tbody>\n",
       "    <tr>\n",
       "      <th>0</th>\n",
       "      <td>2.235023</td>\n",
       "      <td>2.469484</td>\n",
       "      <td>1.247312</td>\n",
       "      <td>2.401786</td>\n",
       "    </tr>\n",
       "    <tr>\n",
       "      <th>1</th>\n",
       "      <td>2.237500</td>\n",
       "      <td>2.129808</td>\n",
       "      <td>1.254777</td>\n",
       "      <td>2.050847</td>\n",
       "    </tr>\n",
       "    <tr>\n",
       "      <th>2</th>\n",
       "      <td>2.132530</td>\n",
       "      <td>1.886598</td>\n",
       "      <td>1.154762</td>\n",
       "      <td>1.693333</td>\n",
       "    </tr>\n",
       "    <tr>\n",
       "      <th>3</th>\n",
       "      <td>1.395349</td>\n",
       "      <td>2.090909</td>\n",
       "      <td>1.066667</td>\n",
       "      <td>1.653846</td>\n",
       "    </tr>\n",
       "    <tr>\n",
       "      <th>4</th>\n",
       "      <td>1.400000</td>\n",
       "      <td>1.785714</td>\n",
       "      <td>1.333333</td>\n",
       "      <td>1.428571</td>\n",
       "    </tr>\n",
       "  </tbody>\n",
       "</table>\n",
       "</div>"
      ],
      "text/plain": [
       "country       Brazil   Germany  South Africa     Spain\n",
       "away_score                                            \n",
       "0           2.235023  2.469484      1.247312  2.401786\n",
       "1           2.237500  2.129808      1.254777  2.050847\n",
       "2           2.132530  1.886598      1.154762  1.693333\n",
       "3           1.395349  2.090909      1.066667  1.653846\n",
       "4           1.400000  1.785714      1.333333  1.428571"
      ]
     },
     "execution_count": 24,
     "metadata": {},
     "output_type": "execute_result"
    }
   ],
   "source": [
    "countries = ['South Africa', 'Brazil', 'Spain', 'Germany']\n",
    "h_countries= data[data.country.isin(countries)][['home_score','away_score','country']]\n",
    "\n",
    "h_countries = h_countries.pivot_table(values='home_score',columns='country',index='away_score')\n",
    "h_countries.head()"
   ]
  },
  {
   "cell_type": "code",
   "execution_count": 25,
   "metadata": {},
   "outputs": [
    {
     "data": {
      "application/vnd.plotly.v1+json": {
       "config": {
        "linkText": "Export to plot.ly",
        "plotlyServerURL": "https://plot.ly",
        "showLink": true
       },
       "data": [
        {
         "histfunc": "count",
         "histnorm": "",
         "marker": {
          "color": "rgba(255, 153, 51, 1.0)",
          "line": {
           "color": "#4D5663",
           "width": 1.3
          }
         },
         "name": "Brazil",
         "opacity": 0.8,
         "orientation": "v",
         "type": "histogram",
         "uid": "70dff64f-4037-4e81-9001-1f8678b42545",
         "x": [
          2.2350230414746544,
          2.2375,
          2.1325301204819276,
          1.3953488372093024,
          1.4,
          0.8,
          1,
          0.5,
          0,
          0
         ],
         "xaxis": "x",
         "yaxis": "y"
        },
        {
         "histfunc": "count",
         "histnorm": "",
         "marker": {
          "color": "rgba(55, 128, 191, 1.0)",
          "line": {
           "color": "#4D5663",
           "width": 1.3
          }
         },
         "name": "Germany",
         "opacity": 0.8,
         "orientation": "v",
         "type": "histogram",
         "uid": "7415fb2b-6cac-446f-b71a-dc2809761294",
         "x": [
          2.4694835680751175,
          2.1298076923076925,
          1.8865979381443299,
          2.090909090909091,
          1.7857142857142858,
          1,
          1,
          0,
          null,
          null
         ],
         "xaxis": "x2",
         "yaxis": "y2"
        },
        {
         "histfunc": "count",
         "histnorm": "",
         "marker": {
          "color": "rgba(50, 171, 96, 1.0)",
          "line": {
           "color": "#4D5663",
           "width": 1.3
          }
         },
         "name": "South Africa",
         "opacity": 0.8,
         "orientation": "v",
         "type": "histogram",
         "uid": "47d8e90f-9dfa-46c0-9eae-667c04dfde28",
         "x": [
          1.2473118279569892,
          1.2547770700636942,
          1.1547619047619047,
          1.0666666666666667,
          1.3333333333333333,
          0.3333333333333333,
          null,
          0,
          null,
          null
         ],
         "xaxis": "x3",
         "yaxis": "y3"
        },
        {
         "histfunc": "count",
         "histnorm": "",
         "marker": {
          "color": "rgba(128, 0, 128, 1.0)",
          "line": {
           "color": "#4D5663",
           "width": 1.3
          }
         },
         "name": "Spain",
         "opacity": 0.8,
         "orientation": "v",
         "type": "histogram",
         "uid": "c2cc8887-07ec-494f-8665-14f05f9d9b0e",
         "x": [
          2.4017857142857144,
          2.0508474576271185,
          1.6933333333333334,
          1.6538461538461537,
          1.4285714285714286,
          1.75,
          1,
          0.5,
          null,
          null
         ],
         "xaxis": "x4",
         "yaxis": "y4"
        }
       ],
       "layout": {
        "barmode": "overlay",
        "legend": {
         "bgcolor": "#F5F6F9",
         "font": {
          "color": "#4D5663"
         }
        },
        "paper_bgcolor": "#F5F6F9",
        "plot_bgcolor": "#F5F6F9",
        "title": {
         "font": {
          "color": "#4D5663"
         },
         "text": "goles en contra y a favor"
        },
        "xaxis": {
         "anchor": "y",
         "domain": [
          0,
          0.45
         ],
         "gridcolor": "#E1E5ED",
         "showgrid": true,
         "tickfont": {
          "color": "#4D5663"
         },
         "title": {
          "font": {
           "color": "#4D5663"
          },
          "text": "away_score"
         },
         "zerolinecolor": "#E1E5ED"
        },
        "xaxis2": {
         "anchor": "y2",
         "domain": [
          0.55,
          1
         ],
         "gridcolor": "#E1E5ED",
         "showgrid": true,
         "tickfont": {
          "color": "#4D5663"
         },
         "title": {
          "font": {
           "color": "#4D5663"
          },
          "text": "away_score"
         },
         "zerolinecolor": "#E1E5ED"
        },
        "xaxis3": {
         "anchor": "y3",
         "domain": [
          0,
          0.45
         ],
         "gridcolor": "#E1E5ED",
         "showgrid": true,
         "tickfont": {
          "color": "#4D5663"
         },
         "title": {
          "font": {
           "color": "#4D5663"
          },
          "text": "away_score"
         },
         "zerolinecolor": "#E1E5ED"
        },
        "xaxis4": {
         "anchor": "y4",
         "domain": [
          0.55,
          1
         ],
         "gridcolor": "#E1E5ED",
         "showgrid": true,
         "tickfont": {
          "color": "#4D5663"
         },
         "title": {
          "font": {
           "color": "#4D5663"
          },
          "text": "away_score"
         },
         "zerolinecolor": "#E1E5ED"
        },
        "yaxis": {
         "anchor": "x",
         "domain": [
          0.575,
          1
         ],
         "gridcolor": "#E1E5ED",
         "showgrid": true,
         "tickfont": {
          "color": "#4D5663"
         },
         "title": {
          "font": {
           "color": "#4D5663"
          },
          "text": "home_score"
         },
         "zerolinecolor": "#E1E5ED"
        },
        "yaxis2": {
         "anchor": "x2",
         "domain": [
          0.575,
          1
         ],
         "gridcolor": "#E1E5ED",
         "showgrid": true,
         "tickfont": {
          "color": "#4D5663"
         },
         "title": {
          "font": {
           "color": "#4D5663"
          },
          "text": "home_score"
         },
         "zerolinecolor": "#E1E5ED"
        },
        "yaxis3": {
         "anchor": "x3",
         "domain": [
          0,
          0.425
         ],
         "gridcolor": "#E1E5ED",
         "showgrid": true,
         "tickfont": {
          "color": "#4D5663"
         },
         "title": {
          "font": {
           "color": "#4D5663"
          },
          "text": "home_score"
         },
         "zerolinecolor": "#E1E5ED"
        },
        "yaxis4": {
         "anchor": "x4",
         "domain": [
          0,
          0.425
         ],
         "gridcolor": "#E1E5ED",
         "showgrid": true,
         "tickfont": {
          "color": "#4D5663"
         },
         "title": {
          "font": {
           "color": "#4D5663"
          },
          "text": "home_score"
         },
         "zerolinecolor": "#E1E5ED"
        }
       }
      },
      "text/html": [
       "<div>\n",
       "        \n",
       "        \n",
       "            <div id=\"ae099139-8e62-45d3-a7c4-823fcafc4de3\" class=\"plotly-graph-div\" style=\"height:525px; width:100%;\"></div>\n",
       "            <script type=\"text/javascript\">\n",
       "                require([\"plotly\"], function(Plotly) {\n",
       "                    window.PLOTLYENV=window.PLOTLYENV || {};\n",
       "                    window.PLOTLYENV.BASE_URL='https://plot.ly';\n",
       "                    \n",
       "                if (document.getElementById(\"ae099139-8e62-45d3-a7c4-823fcafc4de3\")) {\n",
       "                    Plotly.newPlot(\n",
       "                        'ae099139-8e62-45d3-a7c4-823fcafc4de3',\n",
       "                        [{\"histfunc\": \"count\", \"histnorm\": \"\", \"marker\": {\"color\": \"rgba(255, 153, 51, 1.0)\", \"line\": {\"color\": \"#4D5663\", \"width\": 1.3}}, \"name\": \"Brazil\", \"opacity\": 0.8, \"orientation\": \"v\", \"type\": \"histogram\", \"uid\": \"70dff64f-4037-4e81-9001-1f8678b42545\", \"x\": [2.2350230414746544, 2.2375, 2.1325301204819276, 1.3953488372093024, 1.4, 0.8, 1.0, 0.5, 0.0, 0.0], \"xaxis\": \"x\", \"yaxis\": \"y\"}, {\"histfunc\": \"count\", \"histnorm\": \"\", \"marker\": {\"color\": \"rgba(55, 128, 191, 1.0)\", \"line\": {\"color\": \"#4D5663\", \"width\": 1.3}}, \"name\": \"Germany\", \"opacity\": 0.8, \"orientation\": \"v\", \"type\": \"histogram\", \"uid\": \"7415fb2b-6cac-446f-b71a-dc2809761294\", \"x\": [2.4694835680751175, 2.1298076923076925, 1.8865979381443299, 2.090909090909091, 1.7857142857142858, 1.0, 1.0, 0.0, null, null], \"xaxis\": \"x2\", \"yaxis\": \"y2\"}, {\"histfunc\": \"count\", \"histnorm\": \"\", \"marker\": {\"color\": \"rgba(50, 171, 96, 1.0)\", \"line\": {\"color\": \"#4D5663\", \"width\": 1.3}}, \"name\": \"South Africa\", \"opacity\": 0.8, \"orientation\": \"v\", \"type\": \"histogram\", \"uid\": \"47d8e90f-9dfa-46c0-9eae-667c04dfde28\", \"x\": [1.2473118279569892, 1.2547770700636942, 1.1547619047619047, 1.0666666666666667, 1.3333333333333333, 0.3333333333333333, null, 0.0, null, null], \"xaxis\": \"x3\", \"yaxis\": \"y3\"}, {\"histfunc\": \"count\", \"histnorm\": \"\", \"marker\": {\"color\": \"rgba(128, 0, 128, 1.0)\", \"line\": {\"color\": \"#4D5663\", \"width\": 1.3}}, \"name\": \"Spain\", \"opacity\": 0.8, \"orientation\": \"v\", \"type\": \"histogram\", \"uid\": \"c2cc8887-07ec-494f-8665-14f05f9d9b0e\", \"x\": [2.4017857142857144, 2.0508474576271185, 1.6933333333333334, 1.6538461538461537, 1.4285714285714286, 1.75, 1.0, 0.5, null, null], \"xaxis\": \"x4\", \"yaxis\": \"y4\"}],\n",
       "                        {\"barmode\": \"overlay\", \"legend\": {\"bgcolor\": \"#F5F6F9\", \"font\": {\"color\": \"#4D5663\"}}, \"paper_bgcolor\": \"#F5F6F9\", \"plot_bgcolor\": \"#F5F6F9\", \"title\": {\"font\": {\"color\": \"#4D5663\"}, \"text\": \"goles en contra y a favor\"}, \"xaxis\": {\"anchor\": \"y\", \"domain\": [0.0, 0.45], \"gridcolor\": \"#E1E5ED\", \"showgrid\": true, \"tickfont\": {\"color\": \"#4D5663\"}, \"title\": {\"font\": {\"color\": \"#4D5663\"}, \"text\": \"away_score\"}, \"zerolinecolor\": \"#E1E5ED\"}, \"xaxis2\": {\"anchor\": \"y2\", \"domain\": [0.55, 1.0], \"gridcolor\": \"#E1E5ED\", \"showgrid\": true, \"tickfont\": {\"color\": \"#4D5663\"}, \"title\": {\"font\": {\"color\": \"#4D5663\"}, \"text\": \"away_score\"}, \"zerolinecolor\": \"#E1E5ED\"}, \"xaxis3\": {\"anchor\": \"y3\", \"domain\": [0.0, 0.45], \"gridcolor\": \"#E1E5ED\", \"showgrid\": true, \"tickfont\": {\"color\": \"#4D5663\"}, \"title\": {\"font\": {\"color\": \"#4D5663\"}, \"text\": \"away_score\"}, \"zerolinecolor\": \"#E1E5ED\"}, \"xaxis4\": {\"anchor\": \"y4\", \"domain\": [0.55, 1.0], \"gridcolor\": \"#E1E5ED\", \"showgrid\": true, \"tickfont\": {\"color\": \"#4D5663\"}, \"title\": {\"font\": {\"color\": \"#4D5663\"}, \"text\": \"away_score\"}, \"zerolinecolor\": \"#E1E5ED\"}, \"yaxis\": {\"anchor\": \"x\", \"domain\": [0.575, 1.0], \"gridcolor\": \"#E1E5ED\", \"showgrid\": true, \"tickfont\": {\"color\": \"#4D5663\"}, \"title\": {\"font\": {\"color\": \"#4D5663\"}, \"text\": \"home_score\"}, \"zerolinecolor\": \"#E1E5ED\"}, \"yaxis2\": {\"anchor\": \"x2\", \"domain\": [0.575, 1.0], \"gridcolor\": \"#E1E5ED\", \"showgrid\": true, \"tickfont\": {\"color\": \"#4D5663\"}, \"title\": {\"font\": {\"color\": \"#4D5663\"}, \"text\": \"home_score\"}, \"zerolinecolor\": \"#E1E5ED\"}, \"yaxis3\": {\"anchor\": \"x3\", \"domain\": [0.0, 0.425], \"gridcolor\": \"#E1E5ED\", \"showgrid\": true, \"tickfont\": {\"color\": \"#4D5663\"}, \"title\": {\"font\": {\"color\": \"#4D5663\"}, \"text\": \"home_score\"}, \"zerolinecolor\": \"#E1E5ED\"}, \"yaxis4\": {\"anchor\": \"x4\", \"domain\": [0.0, 0.425], \"gridcolor\": \"#E1E5ED\", \"showgrid\": true, \"tickfont\": {\"color\": \"#4D5663\"}, \"title\": {\"font\": {\"color\": \"#4D5663\"}, \"text\": \"home_score\"}, \"zerolinecolor\": \"#E1E5ED\"}},\n",
       "                        {\"showLink\": true, \"linkText\": \"Export to plot.ly\", \"plotlyServerURL\": \"https://plot.ly\", \"responsive\": true}\n",
       "                    ).then(function(){\n",
       "                            \n",
       "var gd = document.getElementById('ae099139-8e62-45d3-a7c4-823fcafc4de3');\n",
       "var x = new MutationObserver(function (mutations, observer) {{\n",
       "        var display = window.getComputedStyle(gd).display;\n",
       "        if (!display || display === 'none') {{\n",
       "            console.log([gd, 'removed!']);\n",
       "            Plotly.purge(gd);\n",
       "            observer.disconnect();\n",
       "        }}\n",
       "}});\n",
       "\n",
       "// Listen for the removal of the full notebook cells\n",
       "var notebookContainer = gd.closest('#notebook-container');\n",
       "if (notebookContainer) {{\n",
       "    x.observe(notebookContainer, {childList: true});\n",
       "}}\n",
       "\n",
       "// Listen for the clearing of the current output cell\n",
       "var outputEl = gd.closest('.output');\n",
       "if (outputEl) {{\n",
       "    x.observe(outputEl, {childList: true});\n",
       "}}\n",
       "\n",
       "                        })\n",
       "                };\n",
       "                });\n",
       "            </script>\n",
       "        </div>"
      ]
     },
     "metadata": {},
     "output_type": "display_data"
    }
   ],
   "source": [
    "h_countries.iplot(kind='hist' , subplots=True\n",
    "         ,xTitle='away_score', yTitle='home_score',title='goles en contra y a favor')\n",
    "\n",
    "\n"
   ]
  },
  {
   "cell_type": "code",
   "execution_count": null,
   "metadata": {},
   "outputs": [],
   "source": []
  }
 ],
 "metadata": {
  "kernelspec": {
   "display_name": "Python 3",
   "language": "python",
   "name": "python3"
  },
  "language_info": {
   "codemirror_mode": {
    "name": "ipython",
    "version": 3
   },
   "file_extension": ".py",
   "mimetype": "text/x-python",
   "name": "python",
   "nbconvert_exporter": "python",
   "pygments_lexer": "ipython3",
   "version": "3.7.3"
  }
 },
 "nbformat": 4,
 "nbformat_minor": 2
}
